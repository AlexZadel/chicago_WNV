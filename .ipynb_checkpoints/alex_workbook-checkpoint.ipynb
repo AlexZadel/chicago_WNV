{
 "cells": [
  {
   "cell_type": "code",
   "execution_count": 41,
   "metadata": {},
   "outputs": [],
   "source": [
    "import pandas as pd\n",
    "import numpy as np"
   ]
  },
  {
   "cell_type": "markdown",
   "metadata": {},
   "source": [
    "# Trap Distance Matrices"
   ]
  },
  {
   "cell_type": "code",
   "execution_count": 42,
   "metadata": {},
   "outputs": [],
   "source": [
    "trap_dist = pd.read_csv('./data/trap_distances.csv')"
   ]
  },
  {
   "cell_type": "code",
   "execution_count": 43,
   "metadata": {},
   "outputs": [
    {
     "data": {
      "text/html": [
       "<div>\n",
       "<style scoped>\n",
       "    .dataframe tbody tr th:only-of-type {\n",
       "        vertical-align: middle;\n",
       "    }\n",
       "\n",
       "    .dataframe tbody tr th {\n",
       "        vertical-align: top;\n",
       "    }\n",
       "\n",
       "    .dataframe thead th {\n",
       "        text-align: right;\n",
       "    }\n",
       "</style>\n",
       "<table border=\"1\" class=\"dataframe\">\n",
       "  <thead>\n",
       "    <tr style=\"text-align: right;\">\n",
       "      <th></th>\n",
       "      <th>InputID</th>\n",
       "      <th>TargetID</th>\n",
       "      <th>Distance</th>\n",
       "    </tr>\n",
       "  </thead>\n",
       "  <tbody>\n",
       "    <tr>\n",
       "      <th>0</th>\n",
       "      <td>T002</td>\n",
       "      <td>T051</td>\n",
       "      <td>16968.51836</td>\n",
       "    </tr>\n",
       "    <tr>\n",
       "      <th>1</th>\n",
       "      <td>T002</td>\n",
       "      <td>T047</td>\n",
       "      <td>12957.56269</td>\n",
       "    </tr>\n",
       "    <tr>\n",
       "      <th>2</th>\n",
       "      <td>T002</td>\n",
       "      <td>T043</td>\n",
       "      <td>13932.91805</td>\n",
       "    </tr>\n",
       "    <tr>\n",
       "      <th>3</th>\n",
       "      <td>T002</td>\n",
       "      <td>T013</td>\n",
       "      <td>3675.98196</td>\n",
       "    </tr>\n",
       "    <tr>\n",
       "      <th>4</th>\n",
       "      <td>T002</td>\n",
       "      <td>T219</td>\n",
       "      <td>10560.04005</td>\n",
       "    </tr>\n",
       "  </tbody>\n",
       "</table>\n",
       "</div>"
      ],
      "text/plain": [
       "  InputID TargetID     Distance\n",
       "0    T002     T051  16968.51836\n",
       "1    T002     T047  12957.56269\n",
       "2    T002     T043  13932.91805\n",
       "3    T002     T013   3675.98196\n",
       "4    T002     T219  10560.04005"
      ]
     },
     "execution_count": 43,
     "metadata": {},
     "output_type": "execute_result"
    }
   ],
   "source": [
    "trap_dist.head()"
   ]
  },
  {
   "cell_type": "code",
   "execution_count": 44,
   "metadata": {},
   "outputs": [],
   "source": [
    "trap_dist.rename(index=str, columns={'InputID':'Trap1', 'TargetID':'Trap2'});"
   ]
  },
  {
   "cell_type": "code",
   "execution_count": 45,
   "metadata": {},
   "outputs": [
    {
     "data": {
      "text/plain": [
       "count    22650.000000\n",
       "mean     16578.515328\n",
       "std       9675.228351\n",
       "min        107.751410\n",
       "25%       8733.918890\n",
       "50%      14982.559290\n",
       "75%      23487.790640\n",
       "max      47231.600130\n",
       "Name: Distance, dtype: float64"
      ]
     },
     "execution_count": 45,
     "metadata": {},
     "output_type": "execute_result"
    }
   ],
   "source": [
    "trap_dist['Distance'].describe()"
   ]
  },
  {
   "cell_type": "code",
   "execution_count": 46,
   "metadata": {},
   "outputs": [],
   "source": [
    "trap_dist['neighbor'] = np.where(trap_dist['Distance'] < 1500, 1, 0)"
   ]
  },
  {
   "cell_type": "code",
   "execution_count": 47,
   "metadata": {},
   "outputs": [
    {
     "data": {
      "text/plain": [
       "0    22454\n",
       "1      196\n",
       "Name: neighbor, dtype: int64"
      ]
     },
     "execution_count": 47,
     "metadata": {},
     "output_type": "execute_result"
    }
   ],
   "source": [
    "trap_dist['neighbor'].value_counts()"
   ]
  },
  {
   "cell_type": "code",
   "execution_count": 48,
   "metadata": {},
   "outputs": [
    {
     "data": {
      "text/plain": [
       "(22650, 4)"
      ]
     },
     "execution_count": 48,
     "metadata": {},
     "output_type": "execute_result"
    }
   ],
   "source": [
    "trap_dist.shape"
   ]
  },
  {
   "cell_type": "code",
   "execution_count": 49,
   "metadata": {},
   "outputs": [],
   "source": [
    "neighbors = trap_dist[trap_dist['neighbor'] == 1]"
   ]
  },
  {
   "cell_type": "code",
   "execution_count": 50,
   "metadata": {},
   "outputs": [
    {
     "data": {
      "text/html": [
       "<div>\n",
       "<style scoped>\n",
       "    .dataframe tbody tr th:only-of-type {\n",
       "        vertical-align: middle;\n",
       "    }\n",
       "\n",
       "    .dataframe tbody tr th {\n",
       "        vertical-align: top;\n",
       "    }\n",
       "\n",
       "    .dataframe thead th {\n",
       "        text-align: right;\n",
       "    }\n",
       "</style>\n",
       "<table border=\"1\" class=\"dataframe\">\n",
       "  <thead>\n",
       "    <tr style=\"text-align: right;\">\n",
       "      <th></th>\n",
       "      <th>InputID</th>\n",
       "      <th>TargetID</th>\n",
       "      <th>Distance</th>\n",
       "      <th>neighbor</th>\n",
       "    </tr>\n",
       "  </thead>\n",
       "  <tbody>\n",
       "    <tr>\n",
       "      <th>79</th>\n",
       "      <td>T002</td>\n",
       "      <td>T002B</td>\n",
       "      <td>1023.77361</td>\n",
       "      <td>1</td>\n",
       "    </tr>\n",
       "    <tr>\n",
       "      <th>210</th>\n",
       "      <td>T007</td>\n",
       "      <td>T236</td>\n",
       "      <td>138.57510</td>\n",
       "      <td>1</td>\n",
       "    </tr>\n",
       "    <tr>\n",
       "      <th>328</th>\n",
       "      <td>T015</td>\n",
       "      <td>T009</td>\n",
       "      <td>1322.86214</td>\n",
       "      <td>1</td>\n",
       "    </tr>\n",
       "    <tr>\n",
       "      <th>523</th>\n",
       "      <td>T045</td>\n",
       "      <td>T232</td>\n",
       "      <td>1012.82312</td>\n",
       "      <td>1</td>\n",
       "    </tr>\n",
       "    <tr>\n",
       "      <th>648</th>\n",
       "      <td>T046</td>\n",
       "      <td>T049</td>\n",
       "      <td>576.40827</td>\n",
       "      <td>1</td>\n",
       "    </tr>\n",
       "  </tbody>\n",
       "</table>\n",
       "</div>"
      ],
      "text/plain": [
       "    InputID TargetID    Distance  neighbor\n",
       "79     T002    T002B  1023.77361         1\n",
       "210    T007     T236   138.57510         1\n",
       "328    T015     T009  1322.86214         1\n",
       "523    T045     T232  1012.82312         1\n",
       "648    T046     T049   576.40827         1"
      ]
     },
     "execution_count": 50,
     "metadata": {},
     "output_type": "execute_result"
    }
   ],
   "source": [
    "neighbors.head()"
   ]
  },
  {
   "cell_type": "code",
   "execution_count": null,
   "metadata": {},
   "outputs": [],
   "source": []
  },
  {
   "cell_type": "code",
   "execution_count": null,
   "metadata": {},
   "outputs": [],
   "source": []
  },
  {
   "cell_type": "markdown",
   "metadata": {},
   "source": [
    "# Build trap history table "
   ]
  },
  {
   "cell_type": "code",
   "execution_count": 51,
   "metadata": {
    "scrolled": true
   },
   "outputs": [
    {
     "data": {
      "text/html": [
       "<div>\n",
       "<style scoped>\n",
       "    .dataframe tbody tr th:only-of-type {\n",
       "        vertical-align: middle;\n",
       "    }\n",
       "\n",
       "    .dataframe tbody tr th {\n",
       "        vertical-align: top;\n",
       "    }\n",
       "\n",
       "    .dataframe thead th {\n",
       "        text-align: right;\n",
       "    }\n",
       "</style>\n",
       "<table border=\"1\" class=\"dataframe\">\n",
       "  <thead>\n",
       "    <tr style=\"text-align: right;\">\n",
       "      <th></th>\n",
       "      <th>Date</th>\n",
       "      <th>Trap</th>\n",
       "      <th>NumMosquitos</th>\n",
       "      <th>WnvPresent</th>\n",
       "    </tr>\n",
       "  </thead>\n",
       "  <tbody>\n",
       "    <tr>\n",
       "      <th>359</th>\n",
       "      <td>2007-07-11</td>\n",
       "      <td>T001</td>\n",
       "      <td>1</td>\n",
       "      <td>0</td>\n",
       "    </tr>\n",
       "    <tr>\n",
       "      <th>2269</th>\n",
       "      <td>2007-08-21</td>\n",
       "      <td>T001</td>\n",
       "      <td>1</td>\n",
       "      <td>0</td>\n",
       "    </tr>\n",
       "    <tr>\n",
       "      <th>3102</th>\n",
       "      <td>2007-09-12</td>\n",
       "      <td>T001</td>\n",
       "      <td>1</td>\n",
       "      <td>0</td>\n",
       "    </tr>\n",
       "    <tr>\n",
       "      <th>1896</th>\n",
       "      <td>2007-08-15</td>\n",
       "      <td>T001</td>\n",
       "      <td>5</td>\n",
       "      <td>0</td>\n",
       "    </tr>\n",
       "    <tr>\n",
       "      <th>1895</th>\n",
       "      <td>2007-08-15</td>\n",
       "      <td>T001</td>\n",
       "      <td>5</td>\n",
       "      <td>0</td>\n",
       "    </tr>\n",
       "  </tbody>\n",
       "</table>\n",
       "</div>"
      ],
      "text/plain": [
       "            Date  Trap  NumMosquitos  WnvPresent\n",
       "359   2007-07-11  T001             1           0\n",
       "2269  2007-08-21  T001             1           0\n",
       "3102  2007-09-12  T001             1           0\n",
       "1896  2007-08-15  T001             5           0\n",
       "1895  2007-08-15  T001             5           0"
      ]
     },
     "execution_count": 51,
     "metadata": {},
     "output_type": "execute_result"
    }
   ],
   "source": [
    "df = pd.read_csv('./data/train.csv')\n",
    "df.drop(['Address', 'Block', 'Street', 'AddressNumberAndStreet', 'Latitude', 'Longitude', 'AddressAccuracy', 'Species'], inplace = True, axis = 1)\n",
    "df.sort_values('Trap', inplace=True)\n",
    "\n",
    "df_history = df.groupby(['Trap', 'Date'])['NumMosquitos', 'WnvPresent'].sum()\n",
    "df_history.sort_index(inplace=True)\n",
    "\n",
    "df.head()"
   ]
  },
  {
   "cell_type": "code",
   "execution_count": 52,
   "metadata": {},
   "outputs": [
    {
     "name": "stdout",
     "output_type": "stream",
     "text": [
      "(149, 1)\n"
     ]
    },
    {
     "data": {
      "text/html": [
       "<div>\n",
       "<style scoped>\n",
       "    .dataframe tbody tr th:only-of-type {\n",
       "        vertical-align: middle;\n",
       "    }\n",
       "\n",
       "    .dataframe tbody tr th {\n",
       "        vertical-align: top;\n",
       "    }\n",
       "\n",
       "    .dataframe thead th {\n",
       "        text-align: right;\n",
       "    }\n",
       "</style>\n",
       "<table border=\"1\" class=\"dataframe\">\n",
       "  <thead>\n",
       "    <tr style=\"text-align: right;\">\n",
       "      <th></th>\n",
       "      <th>Trap</th>\n",
       "    </tr>\n",
       "  </thead>\n",
       "  <tbody>\n",
       "    <tr>\n",
       "      <th>44</th>\n",
       "      <td>T001</td>\n",
       "    </tr>\n",
       "    <tr>\n",
       "      <th>0</th>\n",
       "      <td>T002</td>\n",
       "    </tr>\n",
       "    <tr>\n",
       "      <th>140</th>\n",
       "      <td>T002A</td>\n",
       "    </tr>\n",
       "    <tr>\n",
       "      <th>141</th>\n",
       "      <td>T002B</td>\n",
       "    </tr>\n",
       "    <tr>\n",
       "      <th>45</th>\n",
       "      <td>T003</td>\n",
       "    </tr>\n",
       "  </tbody>\n",
       "</table>\n",
       "</div>"
      ],
      "text/plain": [
       "      Trap\n",
       "44    T001\n",
       "0     T002\n",
       "140  T002A\n",
       "141  T002B\n",
       "45    T003"
      ]
     },
     "execution_count": 52,
     "metadata": {},
     "output_type": "execute_result"
    }
   ],
   "source": [
    "traps = pd.read_csv('./data/trap_lists.csv')\n",
    "traps.drop(['field_1', 'Latitude', 'Longitude'], axis = 1, inplace = True)\n",
    "traps.sort_values('Trap', inplace=True)\n",
    "traps.drop_duplicates(inplace=True)\n",
    "print(traps.shape)\n",
    "traps.head()"
   ]
  },
  {
   "cell_type": "code",
   "execution_count": 53,
   "metadata": {},
   "outputs": [],
   "source": [
    "extras_list = ['T002A',  'T002B',  'T065A', 'T090A', 'T090B', 'T090C', 'T128A',\n",
    "               'T200A', 'T200B', 'T218', 'T218A', 'T218B', 'T218C', 'T234']"
   ]
  },
  {
   "cell_type": "code",
   "execution_count": 58,
   "metadata": {},
   "outputs": [
    {
     "data": {
      "text/plain": [
       "(10, 2)"
      ]
     },
     "execution_count": 58,
     "metadata": {},
     "output_type": "execute_result"
    }
   ],
   "source": [
    "df_history.loc['T001'].shape"
   ]
  },
  {
   "cell_type": "code",
   "execution_count": 59,
   "metadata": {},
   "outputs": [],
   "source": [
    "def make_trap_history(trap):\n",
    "    trap_dict = {}\n",
    "    \n",
    "    if trap in extras_list:\n",
    "        one_hot = 0\n",
    "        percent = 0\n",
    "        avg = 0\n",
    "        total_obs = 0\n",
    "    \n",
    "    else:\n",
    "        #base values\n",
    "        total_mosq = df_history.loc[trap]['NumMosquitos'].sum()\n",
    "        total_pos = df_history.loc[trap]['WnvPresent'].sum()\n",
    "        total_obs = df_history.loc[trap].shape[0]\n",
    "        \n",
    "        #one hot val\n",
    "        if total_pos > 0:\n",
    "            one_hot = 1\n",
    "        else:\n",
    "            one_hot = 0\n",
    "        \n",
    "\n",
    "        #percent positive val\n",
    "        percent = total_pos / total_obs\n",
    "\n",
    "\n",
    "        #average mosquitos per check\n",
    "        avg = total_mosq / total_obs\n",
    "        \n",
    "    trap_dict['any_positive'] = one_hot\n",
    "    trap_dict['percent_pos'] = percent\n",
    "    trap_dict['avg_mosq_per_obs'] = avg\n",
    "    trap_dict['n_obs'] = total_obs\n",
    "    \n",
    "    return trap_dict"
   ]
  },
  {
   "cell_type": "code",
   "execution_count": 60,
   "metadata": {},
   "outputs": [
    {
     "name": "stdout",
     "output_type": "stream",
     "text": [
      "(149, 5)\n"
     ]
    },
    {
     "data": {
      "text/html": [
       "<div>\n",
       "<style scoped>\n",
       "    .dataframe tbody tr th:only-of-type {\n",
       "        vertical-align: middle;\n",
       "    }\n",
       "\n",
       "    .dataframe tbody tr th {\n",
       "        vertical-align: top;\n",
       "    }\n",
       "\n",
       "    .dataframe thead th {\n",
       "        text-align: right;\n",
       "    }\n",
       "</style>\n",
       "<table border=\"1\" class=\"dataframe\">\n",
       "  <thead>\n",
       "    <tr style=\"text-align: right;\">\n",
       "      <th></th>\n",
       "      <th>any_positive</th>\n",
       "      <th>avg_mosq_per_obs</th>\n",
       "      <th>n_obs</th>\n",
       "      <th>percent_pos</th>\n",
       "      <th>trap_id</th>\n",
       "    </tr>\n",
       "  </thead>\n",
       "  <tbody>\n",
       "    <tr>\n",
       "      <th>T001</th>\n",
       "      <td>0</td>\n",
       "      <td>2.500000</td>\n",
       "      <td>10</td>\n",
       "      <td>0.000000</td>\n",
       "      <td>T001</td>\n",
       "    </tr>\n",
       "    <tr>\n",
       "      <th>T002</th>\n",
       "      <td>1</td>\n",
       "      <td>55.373134</td>\n",
       "      <td>67</td>\n",
       "      <td>0.268657</td>\n",
       "      <td>T002</td>\n",
       "    </tr>\n",
       "    <tr>\n",
       "      <th>T002A</th>\n",
       "      <td>0</td>\n",
       "      <td>0.000000</td>\n",
       "      <td>0</td>\n",
       "      <td>0.000000</td>\n",
       "      <td>T002A</td>\n",
       "    </tr>\n",
       "    <tr>\n",
       "      <th>T002B</th>\n",
       "      <td>0</td>\n",
       "      <td>0.000000</td>\n",
       "      <td>0</td>\n",
       "      <td>0.000000</td>\n",
       "      <td>T002B</td>\n",
       "    </tr>\n",
       "    <tr>\n",
       "      <th>T003</th>\n",
       "      <td>1</td>\n",
       "      <td>21.031250</td>\n",
       "      <td>64</td>\n",
       "      <td>0.218750</td>\n",
       "      <td>T003</td>\n",
       "    </tr>\n",
       "    <tr>\n",
       "      <th>T004</th>\n",
       "      <td>0</td>\n",
       "      <td>6.555556</td>\n",
       "      <td>9</td>\n",
       "      <td>0.000000</td>\n",
       "      <td>T004</td>\n",
       "    </tr>\n",
       "    <tr>\n",
       "      <th>T005</th>\n",
       "      <td>1</td>\n",
       "      <td>5.555556</td>\n",
       "      <td>9</td>\n",
       "      <td>0.222222</td>\n",
       "      <td>T005</td>\n",
       "    </tr>\n",
       "    <tr>\n",
       "      <th>T006</th>\n",
       "      <td>1</td>\n",
       "      <td>7.133333</td>\n",
       "      <td>15</td>\n",
       "      <td>0.266667</td>\n",
       "      <td>T006</td>\n",
       "    </tr>\n",
       "    <tr>\n",
       "      <th>T007</th>\n",
       "      <td>0</td>\n",
       "      <td>5.133333</td>\n",
       "      <td>15</td>\n",
       "      <td>0.000000</td>\n",
       "      <td>T007</td>\n",
       "    </tr>\n",
       "    <tr>\n",
       "      <th>T008</th>\n",
       "      <td>1</td>\n",
       "      <td>44.466667</td>\n",
       "      <td>60</td>\n",
       "      <td>0.166667</td>\n",
       "      <td>T008</td>\n",
       "    </tr>\n",
       "    <tr>\n",
       "      <th>T009</th>\n",
       "      <td>1</td>\n",
       "      <td>35.925926</td>\n",
       "      <td>54</td>\n",
       "      <td>0.166667</td>\n",
       "      <td>T009</td>\n",
       "    </tr>\n",
       "    <tr>\n",
       "      <th>T011</th>\n",
       "      <td>1</td>\n",
       "      <td>19.863636</td>\n",
       "      <td>66</td>\n",
       "      <td>0.166667</td>\n",
       "      <td>T011</td>\n",
       "    </tr>\n",
       "    <tr>\n",
       "      <th>T012</th>\n",
       "      <td>1</td>\n",
       "      <td>16.701754</td>\n",
       "      <td>57</td>\n",
       "      <td>0.070175</td>\n",
       "      <td>T012</td>\n",
       "    </tr>\n",
       "    <tr>\n",
       "      <th>T013</th>\n",
       "      <td>1</td>\n",
       "      <td>21.690909</td>\n",
       "      <td>55</td>\n",
       "      <td>0.181818</td>\n",
       "      <td>T013</td>\n",
       "    </tr>\n",
       "    <tr>\n",
       "      <th>T014</th>\n",
       "      <td>1</td>\n",
       "      <td>26.000000</td>\n",
       "      <td>14</td>\n",
       "      <td>0.285714</td>\n",
       "      <td>T014</td>\n",
       "    </tr>\n",
       "    <tr>\n",
       "      <th>T015</th>\n",
       "      <td>1</td>\n",
       "      <td>9.388889</td>\n",
       "      <td>18</td>\n",
       "      <td>0.222222</td>\n",
       "      <td>T015</td>\n",
       "    </tr>\n",
       "    <tr>\n",
       "      <th>T016</th>\n",
       "      <td>1</td>\n",
       "      <td>28.233333</td>\n",
       "      <td>30</td>\n",
       "      <td>0.233333</td>\n",
       "      <td>T016</td>\n",
       "    </tr>\n",
       "    <tr>\n",
       "      <th>T017</th>\n",
       "      <td>0</td>\n",
       "      <td>4.480769</td>\n",
       "      <td>52</td>\n",
       "      <td>0.000000</td>\n",
       "      <td>T017</td>\n",
       "    </tr>\n",
       "    <tr>\n",
       "      <th>T018</th>\n",
       "      <td>0</td>\n",
       "      <td>2.813953</td>\n",
       "      <td>43</td>\n",
       "      <td>0.000000</td>\n",
       "      <td>T018</td>\n",
       "    </tr>\n",
       "  </tbody>\n",
       "</table>\n",
       "</div>"
      ],
      "text/plain": [
       "       any_positive  avg_mosq_per_obs  n_obs  percent_pos trap_id\n",
       "T001              0          2.500000     10     0.000000    T001\n",
       "T002              1         55.373134     67     0.268657    T002\n",
       "T002A             0          0.000000      0     0.000000   T002A\n",
       "T002B             0          0.000000      0     0.000000   T002B\n",
       "T003              1         21.031250     64     0.218750    T003\n",
       "T004              0          6.555556      9     0.000000    T004\n",
       "T005              1          5.555556      9     0.222222    T005\n",
       "T006              1          7.133333     15     0.266667    T006\n",
       "T007              0          5.133333     15     0.000000    T007\n",
       "T008              1         44.466667     60     0.166667    T008\n",
       "T009              1         35.925926     54     0.166667    T009\n",
       "T011              1         19.863636     66     0.166667    T011\n",
       "T012              1         16.701754     57     0.070175    T012\n",
       "T013              1         21.690909     55     0.181818    T013\n",
       "T014              1         26.000000     14     0.285714    T014\n",
       "T015              1          9.388889     18     0.222222    T015\n",
       "T016              1         28.233333     30     0.233333    T016\n",
       "T017              0          4.480769     52     0.000000    T017\n",
       "T018              0          2.813953     43     0.000000    T018"
      ]
     },
     "execution_count": 60,
     "metadata": {},
     "output_type": "execute_result"
    }
   ],
   "source": [
    "traps_list = list(traps['Trap'])\n",
    "dict_list = []\n",
    "for trap in traps_list:\n",
    "    dict_list.append(make_trap_history(trap))\n",
    "\n",
    "df_trap_history = pd.DataFrame(dict_list, index = traps_list)\n",
    "df_trap_history['trap_id'] = df_trap_history.index\n",
    "\n",
    "print(df_trap_history.shape)\n",
    "df_trap_history.sort_index(inplace=True)\n",
    "df_trap_history.head(19)"
   ]
  },
  {
   "cell_type": "code",
   "execution_count": 61,
   "metadata": {},
   "outputs": [
    {
     "data": {
      "text/html": [
       "<div>\n",
       "<style scoped>\n",
       "    .dataframe tbody tr th:only-of-type {\n",
       "        vertical-align: middle;\n",
       "    }\n",
       "\n",
       "    .dataframe tbody tr th {\n",
       "        vertical-align: top;\n",
       "    }\n",
       "\n",
       "    .dataframe thead th {\n",
       "        text-align: right;\n",
       "    }\n",
       "</style>\n",
       "<table border=\"1\" class=\"dataframe\">\n",
       "  <thead>\n",
       "    <tr style=\"text-align: right;\">\n",
       "      <th></th>\n",
       "      <th>any_positive</th>\n",
       "      <th>avg_mosq_per_obs</th>\n",
       "      <th>n_obs</th>\n",
       "      <th>percent_pos</th>\n",
       "      <th>trap_id</th>\n",
       "    </tr>\n",
       "  </thead>\n",
       "  <tbody>\n",
       "    <tr>\n",
       "      <th>T096</th>\n",
       "      <td>1</td>\n",
       "      <td>34.000000</td>\n",
       "      <td>17</td>\n",
       "      <td>0.352941</td>\n",
       "      <td>T096</td>\n",
       "    </tr>\n",
       "    <tr>\n",
       "      <th>T097</th>\n",
       "      <td>1</td>\n",
       "      <td>14.333333</td>\n",
       "      <td>9</td>\n",
       "      <td>0.111111</td>\n",
       "      <td>T097</td>\n",
       "    </tr>\n",
       "    <tr>\n",
       "      <th>T099</th>\n",
       "      <td>0</td>\n",
       "      <td>4.600000</td>\n",
       "      <td>30</td>\n",
       "      <td>0.000000</td>\n",
       "      <td>T099</td>\n",
       "    </tr>\n",
       "    <tr>\n",
       "      <th>T100</th>\n",
       "      <td>0</td>\n",
       "      <td>21.727273</td>\n",
       "      <td>11</td>\n",
       "      <td>0.000000</td>\n",
       "      <td>T100</td>\n",
       "    </tr>\n",
       "    <tr>\n",
       "      <th>T102</th>\n",
       "      <td>1</td>\n",
       "      <td>15.175439</td>\n",
       "      <td>57</td>\n",
       "      <td>0.035088</td>\n",
       "      <td>T102</td>\n",
       "    </tr>\n",
       "    <tr>\n",
       "      <th>T103</th>\n",
       "      <td>1</td>\n",
       "      <td>249.000000</td>\n",
       "      <td>12</td>\n",
       "      <td>0.500000</td>\n",
       "      <td>T103</td>\n",
       "    </tr>\n",
       "    <tr>\n",
       "      <th>T107</th>\n",
       "      <td>1</td>\n",
       "      <td>7.166667</td>\n",
       "      <td>12</td>\n",
       "      <td>0.166667</td>\n",
       "      <td>T107</td>\n",
       "    </tr>\n",
       "    <tr>\n",
       "      <th>T114</th>\n",
       "      <td>1</td>\n",
       "      <td>36.627119</td>\n",
       "      <td>59</td>\n",
       "      <td>0.152542</td>\n",
       "      <td>T114</td>\n",
       "    </tr>\n",
       "    <tr>\n",
       "      <th>T115</th>\n",
       "      <td>1</td>\n",
       "      <td>328.303030</td>\n",
       "      <td>66</td>\n",
       "      <td>0.621212</td>\n",
       "      <td>T115</td>\n",
       "    </tr>\n",
       "    <tr>\n",
       "      <th>T128</th>\n",
       "      <td>1</td>\n",
       "      <td>58.157895</td>\n",
       "      <td>57</td>\n",
       "      <td>0.192982</td>\n",
       "      <td>T128</td>\n",
       "    </tr>\n",
       "    <tr>\n",
       "      <th>T128A</th>\n",
       "      <td>0</td>\n",
       "      <td>0.000000</td>\n",
       "      <td>0</td>\n",
       "      <td>0.000000</td>\n",
       "      <td>T128A</td>\n",
       "    </tr>\n",
       "    <tr>\n",
       "      <th>T129</th>\n",
       "      <td>0</td>\n",
       "      <td>5.538462</td>\n",
       "      <td>13</td>\n",
       "      <td>0.000000</td>\n",
       "      <td>T129</td>\n",
       "    </tr>\n",
       "    <tr>\n",
       "      <th>T135</th>\n",
       "      <td>1</td>\n",
       "      <td>47.303030</td>\n",
       "      <td>66</td>\n",
       "      <td>0.121212</td>\n",
       "      <td>T135</td>\n",
       "    </tr>\n",
       "    <tr>\n",
       "      <th>T138</th>\n",
       "      <td>1</td>\n",
       "      <td>157.714286</td>\n",
       "      <td>63</td>\n",
       "      <td>0.253968</td>\n",
       "      <td>T138</td>\n",
       "    </tr>\n",
       "    <tr>\n",
       "      <th>T141</th>\n",
       "      <td>0</td>\n",
       "      <td>2.785714</td>\n",
       "      <td>14</td>\n",
       "      <td>0.000000</td>\n",
       "      <td>T141</td>\n",
       "    </tr>\n",
       "    <tr>\n",
       "      <th>T142</th>\n",
       "      <td>1</td>\n",
       "      <td>5.800000</td>\n",
       "      <td>10</td>\n",
       "      <td>0.100000</td>\n",
       "      <td>T142</td>\n",
       "    </tr>\n",
       "    <tr>\n",
       "      <th>T143</th>\n",
       "      <td>1</td>\n",
       "      <td>14.375000</td>\n",
       "      <td>16</td>\n",
       "      <td>0.375000</td>\n",
       "      <td>T143</td>\n",
       "    </tr>\n",
       "    <tr>\n",
       "      <th>T144</th>\n",
       "      <td>1</td>\n",
       "      <td>19.111111</td>\n",
       "      <td>36</td>\n",
       "      <td>0.055556</td>\n",
       "      <td>T144</td>\n",
       "    </tr>\n",
       "    <tr>\n",
       "      <th>T145</th>\n",
       "      <td>1</td>\n",
       "      <td>7.444444</td>\n",
       "      <td>54</td>\n",
       "      <td>0.018519</td>\n",
       "      <td>T145</td>\n",
       "    </tr>\n",
       "    <tr>\n",
       "      <th>T146</th>\n",
       "      <td>0</td>\n",
       "      <td>7.125000</td>\n",
       "      <td>16</td>\n",
       "      <td>0.000000</td>\n",
       "      <td>T146</td>\n",
       "    </tr>\n",
       "  </tbody>\n",
       "</table>\n",
       "</div>"
      ],
      "text/plain": [
       "       any_positive  avg_mosq_per_obs  n_obs  percent_pos trap_id\n",
       "T096              1         34.000000     17     0.352941    T096\n",
       "T097              1         14.333333      9     0.111111    T097\n",
       "T099              0          4.600000     30     0.000000    T099\n",
       "T100              0         21.727273     11     0.000000    T100\n",
       "T102              1         15.175439     57     0.035088    T102\n",
       "T103              1        249.000000     12     0.500000    T103\n",
       "T107              1          7.166667     12     0.166667    T107\n",
       "T114              1         36.627119     59     0.152542    T114\n",
       "T115              1        328.303030     66     0.621212    T115\n",
       "T128              1         58.157895     57     0.192982    T128\n",
       "T128A             0          0.000000      0     0.000000   T128A\n",
       "T129              0          5.538462     13     0.000000    T129\n",
       "T135              1         47.303030     66     0.121212    T135\n",
       "T138              1        157.714286     63     0.253968    T138\n",
       "T141              0          2.785714     14     0.000000    T141\n",
       "T142              1          5.800000     10     0.100000    T142\n",
       "T143              1         14.375000     16     0.375000    T143\n",
       "T144              1         19.111111     36     0.055556    T144\n",
       "T145              1          7.444444     54     0.018519    T145\n",
       "T146              0          7.125000     16     0.000000    T146"
      ]
     },
     "execution_count": 61,
     "metadata": {},
     "output_type": "execute_result"
    }
   ],
   "source": [
    "df_trap_history[80:100]"
   ]
  },
  {
   "cell_type": "code",
   "execution_count": 62,
   "metadata": {},
   "outputs": [
    {
     "data": {
      "text/plain": [
       "{'any_positive': 1,\n",
       " 'percent_pos': 0.16666666666666666,\n",
       " 'avg_mosq_per_obs': 35.925925925925924,\n",
       " 'n_obs': 54}"
      ]
     },
     "execution_count": 62,
     "metadata": {},
     "output_type": "execute_result"
    }
   ],
   "source": [
    "make_trap_history('T009')"
   ]
  },
  {
   "cell_type": "markdown",
   "metadata": {},
   "source": [
    "# Neighbor Score"
   ]
  },
  {
   "cell_type": "code",
   "execution_count": 63,
   "metadata": {
    "scrolled": true
   },
   "outputs": [
    {
     "name": "stdout",
     "output_type": "stream",
     "text": [
      "(196, 4)\n"
     ]
    },
    {
     "name": "stderr",
     "output_type": "stream",
     "text": [
      "C:\\Users\\Alexz\\Anaconda3\\lib\\site-packages\\ipykernel_launcher.py:1: SettingWithCopyWarning: \n",
      "A value is trying to be set on a copy of a slice from a DataFrame\n",
      "\n",
      "See the caveats in the documentation: http://pandas.pydata.org/pandas-docs/stable/indexing.html#indexing-view-versus-copy\n",
      "  \"\"\"Entry point for launching an IPython kernel.\n"
     ]
    },
    {
     "data": {
      "text/html": [
       "<div>\n",
       "<style scoped>\n",
       "    .dataframe tbody tr th:only-of-type {\n",
       "        vertical-align: middle;\n",
       "    }\n",
       "\n",
       "    .dataframe tbody tr th {\n",
       "        vertical-align: top;\n",
       "    }\n",
       "\n",
       "    .dataframe thead th {\n",
       "        text-align: right;\n",
       "    }\n",
       "</style>\n",
       "<table border=\"1\" class=\"dataframe\">\n",
       "  <thead>\n",
       "    <tr style=\"text-align: right;\">\n",
       "      <th></th>\n",
       "      <th>InputID</th>\n",
       "      <th>TargetID</th>\n",
       "      <th>Distance</th>\n",
       "      <th>neighbor</th>\n",
       "    </tr>\n",
       "  </thead>\n",
       "  <tbody>\n",
       "    <tr>\n",
       "      <th>6620</th>\n",
       "      <td>T001</td>\n",
       "      <td>T218</td>\n",
       "      <td>671.40894</td>\n",
       "      <td>1</td>\n",
       "    </tr>\n",
       "    <tr>\n",
       "      <th>6693</th>\n",
       "      <td>T001</td>\n",
       "      <td>T218B</td>\n",
       "      <td>857.80845</td>\n",
       "      <td>1</td>\n",
       "    </tr>\n",
       "    <tr>\n",
       "      <th>6695</th>\n",
       "      <td>T001</td>\n",
       "      <td>T218A</td>\n",
       "      <td>281.66476</td>\n",
       "      <td>1</td>\n",
       "    </tr>\n",
       "    <tr>\n",
       "      <th>6676</th>\n",
       "      <td>T001</td>\n",
       "      <td>T228</td>\n",
       "      <td>766.19898</td>\n",
       "      <td>1</td>\n",
       "    </tr>\n",
       "    <tr>\n",
       "      <th>79</th>\n",
       "      <td>T002</td>\n",
       "      <td>T002B</td>\n",
       "      <td>1023.77361</td>\n",
       "      <td>1</td>\n",
       "    </tr>\n",
       "  </tbody>\n",
       "</table>\n",
       "</div>"
      ],
      "text/plain": [
       "     InputID TargetID    Distance  neighbor\n",
       "6620    T001     T218   671.40894         1\n",
       "6693    T001    T218B   857.80845         1\n",
       "6695    T001    T218A   281.66476         1\n",
       "6676    T001     T228   766.19898         1\n",
       "79      T002    T002B  1023.77361         1"
      ]
     },
     "execution_count": 63,
     "metadata": {},
     "output_type": "execute_result"
    }
   ],
   "source": [
    "neighbors.sort_values('InputID', inplace=True)\n",
    "print(neighbors.shape)\n",
    "neighbors.head()"
   ]
  },
  {
   "cell_type": "code",
   "execution_count": 64,
   "metadata": {
    "scrolled": true
   },
   "outputs": [
    {
     "data": {
      "text/html": [
       "<div>\n",
       "<style scoped>\n",
       "    .dataframe tbody tr th:only-of-type {\n",
       "        vertical-align: middle;\n",
       "    }\n",
       "\n",
       "    .dataframe tbody tr th {\n",
       "        vertical-align: top;\n",
       "    }\n",
       "\n",
       "    .dataframe thead th {\n",
       "        text-align: right;\n",
       "    }\n",
       "</style>\n",
       "<table border=\"1\" class=\"dataframe\">\n",
       "  <thead>\n",
       "    <tr style=\"text-align: right;\">\n",
       "      <th></th>\n",
       "      <th></th>\n",
       "      <th>Distance</th>\n",
       "      <th>neighbor</th>\n",
       "    </tr>\n",
       "    <tr>\n",
       "      <th>InputID</th>\n",
       "      <th>TargetID</th>\n",
       "      <th></th>\n",
       "      <th></th>\n",
       "    </tr>\n",
       "  </thead>\n",
       "  <tbody>\n",
       "    <tr>\n",
       "      <th rowspan=\"4\" valign=\"top\">T001</th>\n",
       "      <th>T218</th>\n",
       "      <td>671.40894</td>\n",
       "      <td>1</td>\n",
       "    </tr>\n",
       "    <tr>\n",
       "      <th>T218A</th>\n",
       "      <td>281.66476</td>\n",
       "      <td>1</td>\n",
       "    </tr>\n",
       "    <tr>\n",
       "      <th>T218B</th>\n",
       "      <td>857.80845</td>\n",
       "      <td>1</td>\n",
       "    </tr>\n",
       "    <tr>\n",
       "      <th>T228</th>\n",
       "      <td>766.19898</td>\n",
       "      <td>1</td>\n",
       "    </tr>\n",
       "    <tr>\n",
       "      <th>T002</th>\n",
       "      <th>T002B</th>\n",
       "      <td>1023.77361</td>\n",
       "      <td>1</td>\n",
       "    </tr>\n",
       "  </tbody>\n",
       "</table>\n",
       "</div>"
      ],
      "text/plain": [
       "                    Distance  neighbor\n",
       "InputID TargetID                      \n",
       "T001    T218       671.40894         1\n",
       "        T218A      281.66476         1\n",
       "        T218B      857.80845         1\n",
       "        T228       766.19898         1\n",
       "T002    T002B     1023.77361         1"
      ]
     },
     "execution_count": 64,
     "metadata": {},
     "output_type": "execute_result"
    }
   ],
   "source": [
    "neighbor_lookup = neighbors.groupby(['InputID', 'TargetID'])['Distance', 'neighbor'].sum()\n",
    "neighbor_lookup.head()"
   ]
  },
  {
   "cell_type": "code",
   "execution_count": 65,
   "metadata": {},
   "outputs": [
    {
     "data": {
      "text/plain": [
       "2.5"
      ]
     },
     "execution_count": 65,
     "metadata": {},
     "output_type": "execute_result"
    }
   ],
   "source": [
    "df_trap_history.loc['T001']['avg_mosq_per_obs']"
   ]
  },
  {
   "cell_type": "code",
   "execution_count": 68,
   "metadata": {},
   "outputs": [],
   "source": [
    "has_neighbor_list = list(neighbors.InputID.unique())\n",
    "\n",
    "def neighbor_history_lookup(trap):\n",
    "    neighbor_score = 0\n",
    "    if trap in has_neighbor_list: \n",
    "        neighbors = list(neighbor_lookup.loc[trap].index)\n",
    "        for n in neighbors:\n",
    "            distance = neighbor_lookup.loc[trap, n]['Distance']\n",
    "            weight = 1 / distance\n",
    "\n",
    "            pos_value = 10 * df_trap_history.loc[n]['any_positive']\n",
    "            neigh_onehot_score = weight * pos_value\n",
    "\n",
    "            mosq_value = df_trap_history.loc[n]['avg_mosq_per_obs']\n",
    "            neigh_mosq_score = mosq_value * weight\n",
    "\n",
    "            posrate_value = df_trap_history.loc[n]['percent_pos']\n",
    "            neigh_posrate_score = 100 *posrate_value * weight\n",
    "\n",
    "    else:\n",
    "        neigh_mosq_score = 0\n",
    "        neigh_onehot_score = 0\n",
    "        neigh_posrate_score = 0\n",
    "    \n",
    "    scores = (neigh_mosq_score, neigh_onehot_score, neigh_posrate_score)\n",
    "    return scores"
   ]
  },
  {
   "cell_type": "code",
   "execution_count": 70,
   "metadata": {},
   "outputs": [
    {
     "data": {
      "text/plain": [
       "(0.02797358635655366, 0.013051439979729546, 0.02610287995945909)"
      ]
     },
     "execution_count": 70,
     "metadata": {},
     "output_type": "execute_result"
    }
   ],
   "source": [
    "neighbor_history_lookup('T001')"
   ]
  },
  {
   "cell_type": "code",
   "execution_count": 71,
   "metadata": {},
   "outputs": [
    {
     "name": "stdout",
     "output_type": "stream",
     "text": [
      "(0.02797358635655366, 0.013051439979729546, 0.02610287995945909)\n",
      "(0.0, 0.0, 0.0)\n",
      "(0.0039902348770579745, 0.00687971530527237, 0.00687971530527237)\n",
      "(0.01380791679622928, 0.007225072742212996, 0.004013929301229442)\n",
      "(0.008120317216069423, 0.0, 0.0)\n",
      "(0.0028538054852942545, 0.0, 0.0)\n",
      "(0.0, 0.0, 0.0)\n",
      "(0.01450196704176538, 0.010088324898619395, 0.037831218369822735)\n",
      "(0.14242704573378015, 0.07216303650511528, 0.037980545529008036)\n",
      "(0, 0, 0)\n",
      "(0.028897758808936972, 0.009023500018403427, 0.02030287504140771)\n",
      "(0, 0, 0)\n",
      "(0.003698080642729703, 0.0, 0.0)\n",
      "(0.013129598965958854, 0.011517192075402503, 0.007678128050268335)\n",
      "(0.021785756375202796, 0.006802734231132801, 0.015306152020048803)\n",
      "(0.02715772478447824, 0.007559366692586727, 0.012598944487644544)\n",
      "(0.0759714295307361, 0.025056540082696605, 0.0701583122315505)\n",
      "(0.0069109123699528634, 0.011915366155091143, 0.011915366155091143)\n",
      "(0.003091243176011688, 0.0, 0.0)\n",
      "(0.00714312102657627, 0.0, 0.0)\n",
      "(0.01200975117112609, 0.007190712360863311, 0.0050461139374479375)\n",
      "(0, 0, 0)\n",
      "(0, 0, 0)\n",
      "(0, 0, 0)\n",
      "(0, 0, 0)\n",
      "(0.013301774063478801, 0.008588232503447273, 0.00798905349157886)\n",
      "(0.006728802009721478, 0.009145944479233076, 0.006532817485166483)\n",
      "(0.0032427858966825648, 0.0, 0.0)\n",
      "(0.004730588523969927, 0.0067749634639770314, 0.0023771801627989583)\n",
      "(0.04182718992604473, 0.014232715718867429, 0.01274571556913501)\n",
      "(0, 0, 0)\n",
      "(0.008839197561592666, 0.012659152286703064, 0.004441807819895812)\n",
      "(0.006841250752051854, 0.0, 0.0)\n",
      "(0, 0, 0)\n",
      "(0.009109000643283996, 0.009873392305657477, 0.006369930519779018)\n",
      "(0.00851073905889395, 0.01734881423543767, 0.0032733611764976735)\n",
      "(0.08286268763045819, 0.0, 0.0)\n",
      "(0.011406942263033381, 0.014364297664560554, 0.008449586861506209)\n",
      "(0.017811449281716008, 0.0, 0.0)\n",
      "(0.006162196470770859, 0.006678863250528742, 0.005040651509833013)\n",
      "(0, 0, 0)\n",
      "(0.048481402485525155, 0.02340481499301214, 0.033435449990017345)\n",
      "(0.037660475034210446, 0.02340481499301214, 0.02127710453910195)\n",
      "(0.005045582219179319, 0.0, 0.0)\n",
      "(0, 0, 0)\n",
      "(0, 0, 0)\n",
      "(0.0036459725690233553, 0.007712634280626327, 0.007011485709660299)\n",
      "(0.005676096728128586, 0.008374568943140539, 0.009305076603489486)\n",
      "(0.007292019134181701, 0.010758716755350051, 0.011954129728166722)\n",
      "(0, 0, 0)\n",
      "(0.013171967405667407, 0.017903645017412012, 0.012788317869580007)\n",
      "(0, 0, 0)\n",
      "(0, 0, 0)\n",
      "(0.016509616273331144, 0.01619811407949471, 0.0186901316301862)\n",
      "(0.015575057818393866, 0.0, 0.0)\n",
      "(0.0019953548765585254, 0.007411318112931664, 0.002850506966512179)\n",
      "(0.011953542227502919, 0.0, 0.0)\n",
      "(0, 0, 0)\n",
      "(0, 0, 0)\n",
      "(0.010351545954455374, 0.007411318112931664, 0.004859880729791256)\n",
      "(0, 0, 0)\n",
      "(0, 0, 0)\n",
      "(0.019300039402090265, 0.01271794503952769, 0.004462436855974628)\n",
      "(0, 0, 0)\n",
      "(0.017587093926149405, 0.007051429168503299, 0.008295799021768586)\n",
      "(0.011865933786649643, 0.007819170240913638, 0.0027435685055837325)\n",
      "(0, 0, 0)\n",
      "(0.020917935578581567, 0.0077812889460806695, 0.0061029717224162115)\n",
      "(0, 0, 0)\n",
      "(0.15421298585945806, 0.09280621014611316, 0.04640310507305658)\n",
      "(0.02471480566327019, 0.009193691384586285, 0.0072107383408519885)\n",
      "(0.0, 0.0, 0.0)\n",
      "(0, 0, 0)\n",
      "(0.006265899906669467, 0.007890392475065254, 0.004641407338273678)\n",
      "(0, 0, 0)\n",
      "(0.0, 0.0, 0.0)\n",
      "(0.007409054724102034, 0.0099524615696893, 0.0018430484388313516)\n",
      "(0.013439262367270005, 0.0, 0.0)\n",
      "(0.022731016456801294, 0.0, 0.0)\n",
      "(0, 0, 0)\n",
      "(0.007279245190802015, 0.0, 0.0)\n",
      "(0, 0, 0)\n",
      "(0.017854684847299452, 0.009304328132465123, 0.004812583516792306)\n",
      "(0, 0, 0)\n",
      "(0.005473419168639547, 0.007819170240913638, 0.003257987600380682)\n",
      "(0, 0, 0)\n",
      "(0.3738678737252859, 0.023705390544175732, 0.06020416646139869)\n",
      "(0, 0, 0)\n",
      "(0, 0, 0)\n",
      "(0, 0, 0)\n",
      "(0.003981916868984832, 0.0, 0.0)\n",
      "(0, 0, 0)\n",
      "(0, 0, 0)\n",
      "(0.024259478368272216, 0.007613237486226226, 0.00823052701213646)\n",
      "(0.0031450431015360926, 0.0, 0.0)\n",
      "(0.005339000604108147, 0.0, 0.0)\n",
      "(0.007196338427681835, 0.010088324898619395, 0.026902199729651723)\n",
      "(0.0, 0.0, 0.0)\n",
      "(0.009454838491204836, 0.0, 0.0)\n",
      "(0.009771493039080653, 0.009136578277428819, 0.0061942903575788605)\n",
      "(0.004541627010359544, 0.0, 0.0)\n",
      "(0, 0, 0)\n",
      "(0.02678335118924351, 0.012337820125563231, 0.020563033542605382)\n",
      "(0.0023299860317529957, 0.0, 0.0)\n",
      "(0.01622529591950887, 0.014232715718867429, 0.00948847714591162)\n",
      "(0.007595491372021839, 0.0, 0.0)\n",
      "(0.028595765915257372, 0.01820537892120423, 0.031082354255714536)\n",
      "(0.009538688023895988, 0.011446425628675184, 0.0031795626746319956)\n",
      "(0.0087739784597263, 0.0, 0.0)\n",
      "(0.0, 0.0, 0.0)\n",
      "(0.03839976418392113, 0.025433068569155146, 0.008338711006280376)\n",
      "(0, 0, 0)\n",
      "(0.005827865386161476, 0.009193691384586285, 0.006233011108194092)\n",
      "(0.010428568039900261, 0.008588232503447273, 0.007668064735220781)\n",
      "(0.02357088918926367, 0.00693261446743049, 0.02446805106151938)\n",
      "(0.0275874364323896, 0.00865763484307392, 0.009359605235755589)\n",
      "(0, 0, 0)\n",
      "(0.01956309210310617, 0.010194603252292524, 0.005273070647737512)\n",
      "(0.023296524915379726, 0.006855952005703275, 0.012340713610265895)\n",
      "(0.03878990615628055, 0.02021396726922077, 0.010455500311665917)\n",
      "(0.010949232270827919, 0.0, 0.0)\n",
      "(0.09718657614934058, 0.014828937675368869, 0.034220625404697384)\n",
      "(0.06634671253031416, 0.014828937675368869, 0.007670140176914932)\n",
      "(0.034427558396327065, 0.01606262444618681, 0.03212524889237362)\n",
      "(0.03689899831155807, 0.017215706832764265, 0.03443141366552853)\n",
      "(0.015227644439068273, 0.007104655259285353, 0.014209310518570707)\n",
      "(0.007262095016344885, 0.008714514019613862, 0.002420698338781628)\n",
      "(0.007331174416792084, 0.006854822354845212, 0.004647337189725567)\n",
      "(0.0028561759811855055, 0.0, 0.0)\n",
      "(0.0, 0.0, 0.0)\n",
      "(0.0, 0.0, 0.0)\n",
      "(0.01768710900094528, 0.006802734231132801, 0.019436383517522287)\n",
      "(0, 0, 0)\n",
      "(0, 0, 0)\n",
      "(0.011647916330194338, 0.007051429168503299, 0.010446561731115998)\n",
      "(0.00505028699179312, 0.00865763484307392, 0.007214695702561599)\n",
      "(0.0, 0.0, 0.0)\n",
      "(0, 0, 0)\n",
      "(0.019419070849284507, 0.0, 0.0)\n",
      "(0.0018506730188344845, 0.0, 0.0)\n",
      "(0.02165975437053609, 0.009873392305657477, 0.018512610573107772)\n",
      "(0.07074296483348008, 0.025056540082696605, 0.058465260192958744)\n",
      "(0.004569324334385358, 0.008224783801893645, 0.018277297337541434)\n",
      "(0, 0, 0)\n",
      "(0.037043692072625846, 0.0, 0.0)\n",
      "(0.002331879550846272, 0.0, 0.0)\n",
      "(0.0037301609060859256, 0.0, 0.0)\n",
      "(0, 0, 0)\n",
      "(0, 0, 0)\n",
      "149 149 149\n"
     ]
    }
   ],
   "source": [
    "neigh_mosq_scores = []\n",
    "neigh_onehot_scores = []\n",
    "neigh_posrate_scores = []\n",
    "for trap in traps_list:\n",
    "    scores = neighbor_history_lookup(trap)\n",
    "    print(scores)\n",
    "    neigh_mosq_scores.append(scores[0])\n",
    "    neigh_onehot_scores.append(scores[1])\n",
    "    neigh_posrate_scores.append(scores[2])\n",
    "    \n",
    "print(len(neigh_mosq_scores), len(neigh_onehot_scores), len(neigh_posrate_scores))   \n",
    "    "
   ]
  },
  {
   "cell_type": "code",
   "execution_count": 72,
   "metadata": {},
   "outputs": [
    {
     "data": {
      "text/plain": [
       "(149, 5)"
      ]
     },
     "execution_count": 72,
     "metadata": {},
     "output_type": "execute_result"
    }
   ],
   "source": [
    "df_trap_history.shape"
   ]
  },
  {
   "cell_type": "code",
   "execution_count": 73,
   "metadata": {
    "scrolled": true
   },
   "outputs": [],
   "source": [
    "df_trap_history['neighbor_mosq_score'] = neigh_mosq_scores\n",
    "df_trap_history['neighbor_onehot_score'] = neigh_onehot_scores\n",
    "df_trap_history['neighbor_posrate_score'] = neigh_posrate_scores"
   ]
  },
  {
   "cell_type": "code",
   "execution_count": null,
   "metadata": {},
   "outputs": [],
   "source": []
  },
  {
   "cell_type": "code",
   "execution_count": null,
   "metadata": {},
   "outputs": [],
   "source": []
  },
  {
   "cell_type": "code",
   "execution_count": 74,
   "metadata": {},
   "outputs": [],
   "source": [
    "df_trap_history.drop('trap_id', inplace=True, axis =1)\n"
   ]
  },
  {
   "cell_type": "code",
   "execution_count": 75,
   "metadata": {},
   "outputs": [
    {
     "data": {
      "text/plain": [
       "0.9371677581793686"
      ]
     },
     "execution_count": 75,
     "metadata": {},
     "output_type": "execute_result"
    }
   ],
   "source": [
    "df_trap_history['neighbor_onehot_score'].sum()"
   ]
  },
  {
   "cell_type": "code",
   "execution_count": 76,
   "metadata": {},
   "outputs": [],
   "source": [
    "df_trap_history.drop_duplicates(inplace=True)\n",
    "df_trap_history.to_csv('./data/trap_history.csv')"
   ]
  },
  {
   "cell_type": "code",
   "execution_count": null,
   "metadata": {},
   "outputs": [],
   "source": []
  }
 ],
 "metadata": {
  "kernelspec": {
   "display_name": "Python 3",
   "language": "python",
   "name": "python3"
  },
  "language_info": {
   "codemirror_mode": {
    "name": "ipython",
    "version": 3
   },
   "file_extension": ".py",
   "mimetype": "text/x-python",
   "name": "python",
   "nbconvert_exporter": "python",
   "pygments_lexer": "ipython3",
   "version": "3.6.5"
  }
 },
 "nbformat": 4,
 "nbformat_minor": 2
}
