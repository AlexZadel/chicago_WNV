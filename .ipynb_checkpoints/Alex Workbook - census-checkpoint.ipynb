{
 "cells": [
  {
   "cell_type": "code",
   "execution_count": 1,
   "metadata": {},
   "outputs": [],
   "source": [
    "import pandas as pd\n",
    "import numpy as np"
   ]
  },
  {
   "cell_type": "code",
   "execution_count": 30,
   "metadata": {},
   "outputs": [
    {
     "data": {
      "text/plain": [
       "(878, 3)"
      ]
     },
     "execution_count": 30,
     "metadata": {},
     "output_type": "execute_result"
    }
   ],
   "source": [
    "tracts_list = pd.read_csv('./data/tracts.csv')\n",
    "tracts_list.drop(['NAMELSAD', 'AWATER', 'INTPTLAT', 'INTPTLON', 'Geography', 'Id', 'Id2', '_count', '_sum', '_mean',\n",
    "            'Id_2', 'Id2_2', 'Geography_', 'Total; Est', 'Households', 'Total; E_1',\n",
    "       'Househol_1', 'Total; E_2', 'Househol_2', 'Total; E_3', 'Househol_3',\n",
    "       'Househol_4', 'Total; E_4', 'Total; E_5', 'Total; E_6', 'Total; E_7',\n",
    "       'Total; E_8', 'Total; E_9', 'Total; E10', 'Total; E11', 'Total; E12',\n",
    "       'Total; E13', 'Total; E14', 'Total; E15', 'Total; E16', 'Total; E17',\n",
    "       'Total; E18', 'Total; E19', 'Total; E20', 'Total; E21', 'Total; E22',\n",
    "       'Total; E23', 'Total; E24', 'Total; E25', 'Total; E26', 'Total; E27',\n",
    "       'Total; E28', 'Total; E29'],\n",
    "           axis =1 , inplace=True)\n",
    "tracts_list.shape"
   ]
  },
  {
   "cell_type": "code",
   "execution_count": 31,
   "metadata": {
    "scrolled": true
   },
   "outputs": [],
   "source": [
    "tracts_list.columns = ['object_id', 'geo_id', 'area']"
   ]
  },
  {
   "cell_type": "code",
   "execution_count": 32,
   "metadata": {
    "scrolled": true
   },
   "outputs": [
    {
     "data": {
      "text/html": [
       "<div>\n",
       "<style scoped>\n",
       "    .dataframe tbody tr th:only-of-type {\n",
       "        vertical-align: middle;\n",
       "    }\n",
       "\n",
       "    .dataframe tbody tr th {\n",
       "        vertical-align: top;\n",
       "    }\n",
       "\n",
       "    .dataframe thead th {\n",
       "        text-align: right;\n",
       "    }\n",
       "</style>\n",
       "<table border=\"1\" class=\"dataframe\">\n",
       "  <thead>\n",
       "    <tr style=\"text-align: right;\">\n",
       "      <th></th>\n",
       "      <th>object_id</th>\n",
       "      <th>geo_id</th>\n",
       "      <th>area</th>\n",
       "    </tr>\n",
       "  </thead>\n",
       "  <tbody>\n",
       "    <tr>\n",
       "      <th>0</th>\n",
       "      <td>600.0</td>\n",
       "      <td>17031440300</td>\n",
       "      <td>1295022.0</td>\n",
       "    </tr>\n",
       "    <tr>\n",
       "      <th>1</th>\n",
       "      <td>601.0</td>\n",
       "      <td>17031440600</td>\n",
       "      <td>666619.0</td>\n",
       "    </tr>\n",
       "    <tr>\n",
       "      <th>2</th>\n",
       "      <td>769.0</td>\n",
       "      <td>17031691200</td>\n",
       "      <td>1003068.0</td>\n",
       "    </tr>\n",
       "    <tr>\n",
       "      <th>3</th>\n",
       "      <td>789.0</td>\n",
       "      <td>17031710900</td>\n",
       "      <td>990948.0</td>\n",
       "    </tr>\n",
       "    <tr>\n",
       "      <th>4</th>\n",
       "      <td>795.0</td>\n",
       "      <td>17031711500</td>\n",
       "      <td>649295.0</td>\n",
       "    </tr>\n",
       "  </tbody>\n",
       "</table>\n",
       "</div>"
      ],
      "text/plain": [
       "   object_id       geo_id       area\n",
       "0      600.0  17031440300  1295022.0\n",
       "1      601.0  17031440600   666619.0\n",
       "2      769.0  17031691200  1003068.0\n",
       "3      789.0  17031710900   990948.0\n",
       "4      795.0  17031711500   649295.0"
      ]
     },
     "execution_count": 32,
     "metadata": {},
     "output_type": "execute_result"
    }
   ],
   "source": [
    "tracts_list.head()"
   ]
  },
  {
   "cell_type": "code",
   "execution_count": 33,
   "metadata": {},
   "outputs": [
    {
     "data": {
      "text/plain": [
       "878"
      ]
     },
     "execution_count": 33,
     "metadata": {},
     "output_type": "execute_result"
    }
   ],
   "source": [
    "tracts_ids = list(tracts_list['geo_id'])\n",
    "len(tracts_ids)"
   ]
  },
  {
   "cell_type": "markdown",
   "metadata": {},
   "source": [
    "# Census Data Work"
   ]
  },
  {
   "cell_type": "code",
   "execution_count": 34,
   "metadata": {},
   "outputs": [],
   "source": [
    "# import cols of interest\n",
    "meta = pd.read_csv('./data/census/meta.csv')\n",
    "\n",
    "census_cols = ['GEOID']\n",
    "census_cols.extend(list(meta['Short_Name']))\n",
    "\n",
    "col_names = ['geo_id']\n",
    "col_names.extend(list(meta['Name']))"
   ]
  },
  {
   "cell_type": "code",
   "execution_count": 35,
   "metadata": {},
   "outputs": [
    {
     "name": "stdout",
     "output_type": "stream",
     "text": [
      "(3123, 720) (3123, 6) (3123, 1626) (3123, 244) (3123, 1636) (3123, 3942)\n"
     ]
    }
   ],
   "source": [
    "# import other census data\n",
    "age = pd.read_csv('./data/census/age_sex.csv')\n",
    "counts = pd.read_csv('./data/census/counts.csv')\n",
    "employment = pd.read_csv('./data/census/employment.csv')\n",
    "food_stamps = pd.read_csv('./data/census/food_stamps.csv')\n",
    "insurance = pd.read_csv('./data/census/health_insurance.csv')\n",
    "poverty = pd.read_csv('./data/census/poverty.csv')\n",
    "\n",
    "print(age.shape, counts.shape, employment.shape, food_stamps.shape, insurance.shape, poverty.shape)"
   ]
  },
  {
   "cell_type": "code",
   "execution_count": 36,
   "metadata": {},
   "outputs": [],
   "source": [
    "ids = list(age['GEOID'])\n",
    "\n",
    "sets = [counts, employment, food_stamps, insurance, poverty]\n",
    "for set in sets:\n",
    "    set.drop('GEOID', inplace=True, axis = 1)\n",
    "    \n",
    "\n",
    "\n",
    "data = pd.concat([age, counts, employment, food_stamps, insurance, poverty], axis = 1)\n",
    "\n",
    "tracts_census = pd.DataFrame(data[census_cols])\n",
    "\n",
    "tracts_census.columns = col_names"
   ]
  },
  {
   "cell_type": "code",
   "execution_count": 37,
   "metadata": {
    "scrolled": true
   },
   "outputs": [
    {
     "data": {
      "text/html": [
       "<div>\n",
       "<style scoped>\n",
       "    .dataframe tbody tr th:only-of-type {\n",
       "        vertical-align: middle;\n",
       "    }\n",
       "\n",
       "    .dataframe tbody tr th {\n",
       "        vertical-align: top;\n",
       "    }\n",
       "\n",
       "    .dataframe thead th {\n",
       "        text-align: right;\n",
       "    }\n",
       "</style>\n",
       "<table border=\"1\" class=\"dataframe\">\n",
       "  <thead>\n",
       "    <tr style=\"text-align: right;\">\n",
       "      <th></th>\n",
       "      <th>geo_id</th>\n",
       "      <th>total_pop</th>\n",
       "      <th>food_stamps_det</th>\n",
       "      <th>food_stamps_yes</th>\n",
       "      <th>insured_det</th>\n",
       "      <th>under_5</th>\n",
       "      <th>pov_rate</th>\n",
       "      <th>uninsured</th>\n",
       "      <th>elders</th>\n",
       "    </tr>\n",
       "  </thead>\n",
       "  <tbody>\n",
       "    <tr>\n",
       "      <th>0</th>\n",
       "      <td>14000US17001000100</td>\n",
       "      <td>4569</td>\n",
       "      <td>2185</td>\n",
       "      <td>205</td>\n",
       "      <td>4569</td>\n",
       "      <td>198</td>\n",
       "      <td>1.038739</td>\n",
       "      <td>76</td>\n",
       "      <td>1167</td>\n",
       "    </tr>\n",
       "    <tr>\n",
       "      <th>1</th>\n",
       "      <td>14000US17001000201</td>\n",
       "      <td>1937</td>\n",
       "      <td>858</td>\n",
       "      <td>90</td>\n",
       "      <td>1937</td>\n",
       "      <td>135</td>\n",
       "      <td>1.166925</td>\n",
       "      <td>227</td>\n",
       "      <td>463</td>\n",
       "    </tr>\n",
       "    <tr>\n",
       "      <th>2</th>\n",
       "      <td>14000US17001000202</td>\n",
       "      <td>2563</td>\n",
       "      <td>991</td>\n",
       "      <td>232</td>\n",
       "      <td>2563</td>\n",
       "      <td>238</td>\n",
       "      <td>1.170722</td>\n",
       "      <td>241</td>\n",
       "      <td>339</td>\n",
       "    </tr>\n",
       "    <tr>\n",
       "      <th>3</th>\n",
       "      <td>14000US17001000400</td>\n",
       "      <td>3403</td>\n",
       "      <td>1390</td>\n",
       "      <td>515</td>\n",
       "      <td>3190</td>\n",
       "      <td>177</td>\n",
       "      <td>1.316484</td>\n",
       "      <td>342</td>\n",
       "      <td>645</td>\n",
       "    </tr>\n",
       "    <tr>\n",
       "      <th>4</th>\n",
       "      <td>14000US17001000500</td>\n",
       "      <td>2298</td>\n",
       "      <td>861</td>\n",
       "      <td>213</td>\n",
       "      <td>2020</td>\n",
       "      <td>116</td>\n",
       "      <td>1.251509</td>\n",
       "      <td>234</td>\n",
       "      <td>432</td>\n",
       "    </tr>\n",
       "  </tbody>\n",
       "</table>\n",
       "</div>"
      ],
      "text/plain": [
       "               geo_id  total_pop  food_stamps_det  food_stamps_yes  \\\n",
       "0  14000US17001000100       4569             2185              205   \n",
       "1  14000US17001000201       1937              858               90   \n",
       "2  14000US17001000202       2563              991              232   \n",
       "3  14000US17001000400       3403             1390              515   \n",
       "4  14000US17001000500       2298              861              213   \n",
       "\n",
       "   insured_det  under_5  pov_rate  uninsured  elders  \n",
       "0         4569      198  1.038739         76    1167  \n",
       "1         1937      135  1.166925        227     463  \n",
       "2         2563      238  1.170722        241     339  \n",
       "3         3190      177  1.316484        342     645  \n",
       "4         2020      116  1.251509        234     432  "
      ]
     },
     "execution_count": 37,
     "metadata": {},
     "output_type": "execute_result"
    }
   ],
   "source": [
    "tracts_census['under_5'] = tracts_census['under_5_boys'] + tracts_census['under_5_girls']\n",
    "tracts_census['pov_rate'] = tracts_census['pop_poverty_yes'] / tracts_census['pop_poverty_det'] + 1\n",
    "uninsured = ['uninsured1', 'uninsured2', 'uninsured3', 'uninsured4', 'uninsured5', 'uninsured6', 'uninsured7',\n",
    "             'uninsured8', 'uninsured9', 'uninsured10', 'uninsured11', 'uninsured12', 'uninsured13', 'uninsured14',\n",
    "             'uninsured15', 'uninsured16', 'uninsured17', 'uninsured18']\n",
    "elders = ['elder1', 'elder2', 'elder3', 'elder4', 'elder5', 'elder6', 'elder7', 'elder8', 'elder9', 'elder10', 'elder11', 'elder12']\n",
    "\n",
    "tracts_census['uninsured'] = tracts_census['uninsured1'] + tracts_census['uninsured2'] + tracts_census['uninsured3'] + tracts_census['uninsured4'] + tracts_census['uninsured5'] + tracts_census['uninsured6'] + tracts_census['uninsured7'] + tracts_census['uninsured8'] + tracts_census['uninsured9'] + tracts_census['uninsured10'] + tracts_census['uninsured11'] + tracts_census['uninsured12'] + tracts_census['uninsured13'] + tracts_census['uninsured14'] + tracts_census['uninsured15'] + tracts_census['uninsured16'] + tracts_census['uninsured17'] + tracts_census['uninsured18']\n",
    "tracts_census['elders'] = tracts_census['elder1'] + tracts_census['elder2'] + tracts_census['elder3'] + tracts_census['elder4'] + tracts_census['elder5'] + tracts_census['elder6'] + tracts_census['elder7'] + tracts_census['elder8'] + tracts_census['elder9'] + tracts_census['elder10'] + tracts_census['elder11'] + tracts_census['elder12'] \n",
    "\n",
    "tracts_census.drop(['under_5_boys', 'under_5_girls', 'pop_poverty_yes', 'pop_poverty_det'], inplace=True, axis = 1)\n",
    "tracts_census.drop(elders, inplace=True, axis =1)\n",
    "tracts_census.drop(uninsured, inplace=True, axis=1)\n",
    "\n",
    "tracts_census.head()"
   ]
  },
  {
   "cell_type": "code",
   "execution_count": 38,
   "metadata": {},
   "outputs": [
    {
     "data": {
      "text/plain": [
       "(3123, 9)"
      ]
     },
     "execution_count": 38,
     "metadata": {},
     "output_type": "execute_result"
    }
   ],
   "source": [
    "tracts_census.shape"
   ]
  },
  {
   "cell_type": "code",
   "execution_count": 39,
   "metadata": {
    "scrolled": false
   },
   "outputs": [
    {
     "data": {
      "text/html": [
       "<div>\n",
       "<style scoped>\n",
       "    .dataframe tbody tr th:only-of-type {\n",
       "        vertical-align: middle;\n",
       "    }\n",
       "\n",
       "    .dataframe tbody tr th {\n",
       "        vertical-align: top;\n",
       "    }\n",
       "\n",
       "    .dataframe thead th {\n",
       "        text-align: right;\n",
       "    }\n",
       "</style>\n",
       "<table border=\"1\" class=\"dataframe\">\n",
       "  <thead>\n",
       "    <tr style=\"text-align: right;\">\n",
       "      <th></th>\n",
       "      <th>geo_id</th>\n",
       "      <th>total_pop</th>\n",
       "      <th>pov_rate</th>\n",
       "      <th>pop_vulnerable</th>\n",
       "      <th>uninsured_rate</th>\n",
       "    </tr>\n",
       "  </thead>\n",
       "  <tbody>\n",
       "    <tr>\n",
       "      <th>0</th>\n",
       "      <td>14000US17001000100</td>\n",
       "      <td>4569</td>\n",
       "      <td>1.038739</td>\n",
       "      <td>1366</td>\n",
       "      <td>1.016634</td>\n",
       "    </tr>\n",
       "    <tr>\n",
       "      <th>1</th>\n",
       "      <td>14000US17001000201</td>\n",
       "      <td>1937</td>\n",
       "      <td>1.166925</td>\n",
       "      <td>599</td>\n",
       "      <td>1.117192</td>\n",
       "    </tr>\n",
       "    <tr>\n",
       "      <th>2</th>\n",
       "      <td>14000US17001000202</td>\n",
       "      <td>2563</td>\n",
       "      <td>1.170722</td>\n",
       "      <td>578</td>\n",
       "      <td>1.094030</td>\n",
       "    </tr>\n",
       "    <tr>\n",
       "      <th>3</th>\n",
       "      <td>14000US17001000400</td>\n",
       "      <td>3403</td>\n",
       "      <td>1.316484</td>\n",
       "      <td>823</td>\n",
       "      <td>1.107210</td>\n",
       "    </tr>\n",
       "    <tr>\n",
       "      <th>4</th>\n",
       "      <td>14000US17001000500</td>\n",
       "      <td>2298</td>\n",
       "      <td>1.251509</td>\n",
       "      <td>549</td>\n",
       "      <td>1.115842</td>\n",
       "    </tr>\n",
       "  </tbody>\n",
       "</table>\n",
       "</div>"
      ],
      "text/plain": [
       "               geo_id  total_pop  pov_rate  pop_vulnerable  uninsured_rate\n",
       "0  14000US17001000100       4569  1.038739            1366        1.016634\n",
       "1  14000US17001000201       1937  1.166925             599        1.117192\n",
       "2  14000US17001000202       2563  1.170722             578        1.094030\n",
       "3  14000US17001000400       3403  1.316484             823        1.107210\n",
       "4  14000US17001000500       2298  1.251509             549        1.115842"
      ]
     },
     "execution_count": 39,
     "metadata": {},
     "output_type": "execute_result"
    }
   ],
   "source": [
    "tracts_census['pop_vulnerable'] = tracts_census['elders'] + tracts_census['under_5'] + 1\n",
    "tracts_census['uninsured_rate'] = tracts_census['uninsured'] / tracts_census['insured_det'] + 1\n",
    "tracts_census.drop(['elders', 'under_5', 'food_stamps_yes', 'food_stamps_det', 'insured_det', 'uninsured'], axis=1, inplace=True)\n",
    "tracts_census.head()"
   ]
  },
  {
   "cell_type": "code",
   "execution_count": 40,
   "metadata": {},
   "outputs": [
    {
     "name": "stdout",
     "output_type": "stream",
     "text": [
      "(3123, 5)\n"
     ]
    },
    {
     "data": {
      "text/html": [
       "<div>\n",
       "<style scoped>\n",
       "    .dataframe tbody tr th:only-of-type {\n",
       "        vertical-align: middle;\n",
       "    }\n",
       "\n",
       "    .dataframe tbody tr th {\n",
       "        vertical-align: top;\n",
       "    }\n",
       "\n",
       "    .dataframe thead th {\n",
       "        text-align: right;\n",
       "    }\n",
       "</style>\n",
       "<table border=\"1\" class=\"dataframe\">\n",
       "  <thead>\n",
       "    <tr style=\"text-align: right;\">\n",
       "      <th></th>\n",
       "      <th>geo_id</th>\n",
       "      <th>total_pop</th>\n",
       "      <th>pov_rate</th>\n",
       "      <th>pop_vulnerable</th>\n",
       "      <th>uninsured_rate</th>\n",
       "    </tr>\n",
       "  </thead>\n",
       "  <tbody>\n",
       "    <tr>\n",
       "      <th>0</th>\n",
       "      <td>17001000100</td>\n",
       "      <td>4569</td>\n",
       "      <td>1.038739</td>\n",
       "      <td>1366</td>\n",
       "      <td>1.016634</td>\n",
       "    </tr>\n",
       "    <tr>\n",
       "      <th>1</th>\n",
       "      <td>17001000201</td>\n",
       "      <td>1937</td>\n",
       "      <td>1.166925</td>\n",
       "      <td>599</td>\n",
       "      <td>1.117192</td>\n",
       "    </tr>\n",
       "    <tr>\n",
       "      <th>2</th>\n",
       "      <td>17001000202</td>\n",
       "      <td>2563</td>\n",
       "      <td>1.170722</td>\n",
       "      <td>578</td>\n",
       "      <td>1.094030</td>\n",
       "    </tr>\n",
       "    <tr>\n",
       "      <th>3</th>\n",
       "      <td>17001000400</td>\n",
       "      <td>3403</td>\n",
       "      <td>1.316484</td>\n",
       "      <td>823</td>\n",
       "      <td>1.107210</td>\n",
       "    </tr>\n",
       "    <tr>\n",
       "      <th>4</th>\n",
       "      <td>17001000500</td>\n",
       "      <td>2298</td>\n",
       "      <td>1.251509</td>\n",
       "      <td>549</td>\n",
       "      <td>1.115842</td>\n",
       "    </tr>\n",
       "  </tbody>\n",
       "</table>\n",
       "</div>"
      ],
      "text/plain": [
       "        geo_id  total_pop  pov_rate  pop_vulnerable  uninsured_rate\n",
       "0  17001000100       4569  1.038739            1366        1.016634\n",
       "1  17001000201       1937  1.166925             599        1.117192\n",
       "2  17001000202       2563  1.170722             578        1.094030\n",
       "3  17001000400       3403  1.316484             823        1.107210\n",
       "4  17001000500       2298  1.251509             549        1.115842"
      ]
     },
     "execution_count": 40,
     "metadata": {},
     "output_type": "execute_result"
    }
   ],
   "source": [
    "GEOID = list(tracts_census['geo_id'])\n",
    "new_ids  = []\n",
    "for idi in GEOID:\n",
    "    new_ids.append(idi[7:])\n",
    "tracts_census['geo_id'] = new_ids\n",
    "print(tracts_census.shape)\n",
    "tracts_census.head(5)"
   ]
  },
  {
   "cell_type": "markdown",
   "metadata": {},
   "source": [
    "# Connect to Tracts with Areas"
   ]
  },
  {
   "cell_type": "code",
   "execution_count": 41,
   "metadata": {},
   "outputs": [
    {
     "data": {
      "text/html": [
       "<div>\n",
       "<style scoped>\n",
       "    .dataframe tbody tr th:only-of-type {\n",
       "        vertical-align: middle;\n",
       "    }\n",
       "\n",
       "    .dataframe tbody tr th {\n",
       "        vertical-align: top;\n",
       "    }\n",
       "\n",
       "    .dataframe thead th {\n",
       "        text-align: right;\n",
       "    }\n",
       "</style>\n",
       "<table border=\"1\" class=\"dataframe\">\n",
       "  <thead>\n",
       "    <tr style=\"text-align: right;\">\n",
       "      <th></th>\n",
       "      <th>OBJECTID</th>\n",
       "      <th>GEOID</th>\n",
       "      <th>NAMELSAD</th>\n",
       "      <th>Trap</th>\n",
       "      <th>intersect_</th>\n",
       "    </tr>\n",
       "  </thead>\n",
       "  <tbody>\n",
       "    <tr>\n",
       "      <th>0</th>\n",
       "      <td>600.0</td>\n",
       "      <td>17031440300</td>\n",
       "      <td>Census Tract 4403</td>\n",
       "      <td>T229</td>\n",
       "      <td>58774.383</td>\n",
       "    </tr>\n",
       "    <tr>\n",
       "      <th>1</th>\n",
       "      <td>600.0</td>\n",
       "      <td>17031440300</td>\n",
       "      <td>Census Tract 4403</td>\n",
       "      <td>T162</td>\n",
       "      <td>161907.113</td>\n",
       "    </tr>\n",
       "    <tr>\n",
       "      <th>2</th>\n",
       "      <td>600.0</td>\n",
       "      <td>17031440300</td>\n",
       "      <td>Census Tract 4403</td>\n",
       "      <td>T227</td>\n",
       "      <td>3267.645</td>\n",
       "    </tr>\n",
       "    <tr>\n",
       "      <th>3</th>\n",
       "      <td>600.0</td>\n",
       "      <td>17031440300</td>\n",
       "      <td>Census Tract 4403</td>\n",
       "      <td>T080</td>\n",
       "      <td>769521.358</td>\n",
       "    </tr>\n",
       "    <tr>\n",
       "      <th>4</th>\n",
       "      <td>600.0</td>\n",
       "      <td>17031440300</td>\n",
       "      <td>Census Tract 4403</td>\n",
       "      <td>T102</td>\n",
       "      <td>677333.583</td>\n",
       "    </tr>\n",
       "  </tbody>\n",
       "</table>\n",
       "</div>"
      ],
      "text/plain": [
       "   OBJECTID        GEOID           NAMELSAD  Trap  intersect_\n",
       "0     600.0  17031440300  Census Tract 4403  T229   58774.383\n",
       "1     600.0  17031440300  Census Tract 4403  T162  161907.113\n",
       "2     600.0  17031440300  Census Tract 4403  T227    3267.645\n",
       "3     600.0  17031440300  Census Tract 4403  T080  769521.358\n",
       "4     600.0  17031440300  Census Tract 4403  T102  677333.583"
      ]
     },
     "execution_count": 41,
     "metadata": {},
     "output_type": "execute_result"
    }
   ],
   "source": [
    "#import intersect\n",
    "intersect = pd.read_csv('./data/census/buffer_intersect.csv')\n",
    "intersect.head()"
   ]
  },
  {
   "cell_type": "code",
   "execution_count": 42,
   "metadata": {},
   "outputs": [
    {
     "name": "stdout",
     "output_type": "stream",
     "text": [
      "(135, 3)\n"
     ]
    },
    {
     "data": {
      "text/html": [
       "<div>\n",
       "<style scoped>\n",
       "    .dataframe tbody tr th:only-of-type {\n",
       "        vertical-align: middle;\n",
       "    }\n",
       "\n",
       "    .dataframe tbody tr th {\n",
       "        vertical-align: top;\n",
       "    }\n",
       "\n",
       "    .dataframe thead th {\n",
       "        text-align: right;\n",
       "    }\n",
       "</style>\n",
       "<table border=\"1\" class=\"dataframe\">\n",
       "  <thead>\n",
       "    <tr style=\"text-align: right;\">\n",
       "      <th></th>\n",
       "      <th>Trap</th>\n",
       "      <th>proba_x</th>\n",
       "      <th>proba_y</th>\n",
       "    </tr>\n",
       "  </thead>\n",
       "  <tbody>\n",
       "    <tr>\n",
       "      <th>0</th>\n",
       "      <td>T097</td>\n",
       "      <td>0.887285</td>\n",
       "      <td>0.626060</td>\n",
       "    </tr>\n",
       "    <tr>\n",
       "      <th>1</th>\n",
       "      <td>T221</td>\n",
       "      <td>0.874128</td>\n",
       "      <td>0.221476</td>\n",
       "    </tr>\n",
       "    <tr>\n",
       "      <th>2</th>\n",
       "      <td>T135</td>\n",
       "      <td>0.836210</td>\n",
       "      <td>0.087697</td>\n",
       "    </tr>\n",
       "    <tr>\n",
       "      <th>3</th>\n",
       "      <td>T115</td>\n",
       "      <td>0.777944</td>\n",
       "      <td>0.084682</td>\n",
       "    </tr>\n",
       "    <tr>\n",
       "      <th>4</th>\n",
       "      <td>T200</td>\n",
       "      <td>0.735764</td>\n",
       "      <td>0.057695</td>\n",
       "    </tr>\n",
       "  </tbody>\n",
       "</table>\n",
       "</div>"
      ],
      "text/plain": [
       "   Trap   proba_x   proba_y\n",
       "0  T097  0.887285  0.626060\n",
       "1  T221  0.874128  0.221476\n",
       "2  T135  0.836210  0.087697\n",
       "3  T115  0.777944  0.084682\n",
       "4  T200  0.735764  0.057695"
      ]
     },
     "execution_count": 42,
     "metadata": {},
     "output_type": "execute_result"
    }
   ],
   "source": [
    "#import probas\n",
    "probs = pd.read_csv('./data/probatrap.csv')\n",
    "print(probs.shape)\n",
    "probs.head()"
   ]
  },
  {
   "cell_type": "code",
   "execution_count": 43,
   "metadata": {},
   "outputs": [
    {
     "name": "stdout",
     "output_type": "stream",
     "text": [
      "808\n"
     ]
    },
    {
     "data": {
      "text/html": [
       "<div>\n",
       "<style scoped>\n",
       "    .dataframe tbody tr th:only-of-type {\n",
       "        vertical-align: middle;\n",
       "    }\n",
       "\n",
       "    .dataframe tbody tr th {\n",
       "        vertical-align: top;\n",
       "    }\n",
       "\n",
       "    .dataframe thead th {\n",
       "        text-align: right;\n",
       "    }\n",
       "</style>\n",
       "<table border=\"1\" class=\"dataframe\">\n",
       "  <thead>\n",
       "    <tr style=\"text-align: right;\">\n",
       "      <th></th>\n",
       "      <th>OBJECTID</th>\n",
       "      <th>GEOID</th>\n",
       "      <th>NAMELSAD</th>\n",
       "      <th>Trap</th>\n",
       "      <th>intersect_</th>\n",
       "      <th>proba_x</th>\n",
       "      <th>proba_y</th>\n",
       "    </tr>\n",
       "  </thead>\n",
       "  <tbody>\n",
       "    <tr>\n",
       "      <th>0</th>\n",
       "      <td>600.0</td>\n",
       "      <td>17031440300</td>\n",
       "      <td>Census Tract 4403</td>\n",
       "      <td>T229</td>\n",
       "      <td>58774.383</td>\n",
       "      <td>0.006978</td>\n",
       "      <td>0.004543</td>\n",
       "    </tr>\n",
       "    <tr>\n",
       "      <th>1</th>\n",
       "      <td>600.0</td>\n",
       "      <td>17031440300</td>\n",
       "      <td>Census Tract 4403</td>\n",
       "      <td>T162</td>\n",
       "      <td>161907.113</td>\n",
       "      <td>0.812619</td>\n",
       "      <td>0.258748</td>\n",
       "    </tr>\n",
       "    <tr>\n",
       "      <th>2</th>\n",
       "      <td>600.0</td>\n",
       "      <td>17031440300</td>\n",
       "      <td>Census Tract 4403</td>\n",
       "      <td>T227</td>\n",
       "      <td>3267.645</td>\n",
       "      <td>0.342708</td>\n",
       "      <td>0.061361</td>\n",
       "    </tr>\n",
       "    <tr>\n",
       "      <th>3</th>\n",
       "      <td>600.0</td>\n",
       "      <td>17031440300</td>\n",
       "      <td>Census Tract 4403</td>\n",
       "      <td>T080</td>\n",
       "      <td>769521.358</td>\n",
       "      <td>0.495712</td>\n",
       "      <td>0.010928</td>\n",
       "    </tr>\n",
       "    <tr>\n",
       "      <th>4</th>\n",
       "      <td>600.0</td>\n",
       "      <td>17031440300</td>\n",
       "      <td>Census Tract 4403</td>\n",
       "      <td>T102</td>\n",
       "      <td>677333.583</td>\n",
       "      <td>0.650741</td>\n",
       "      <td>0.081479</td>\n",
       "    </tr>\n",
       "  </tbody>\n",
       "</table>\n",
       "</div>"
      ],
      "text/plain": [
       "   OBJECTID        GEOID           NAMELSAD  Trap  intersect_   proba_x  \\\n",
       "0     600.0  17031440300  Census Tract 4403  T229   58774.383  0.006978   \n",
       "1     600.0  17031440300  Census Tract 4403  T162  161907.113  0.812619   \n",
       "2     600.0  17031440300  Census Tract 4403  T227    3267.645  0.342708   \n",
       "3     600.0  17031440300  Census Tract 4403  T080  769521.358  0.495712   \n",
       "4     600.0  17031440300  Census Tract 4403  T102  677333.583  0.650741   \n",
       "\n",
       "    proba_y  \n",
       "0  0.004543  \n",
       "1  0.258748  \n",
       "2  0.061361  \n",
       "3  0.010928  \n",
       "4  0.081479  "
      ]
     },
     "execution_count": 43,
     "metadata": {},
     "output_type": "execute_result"
    }
   ],
   "source": [
    "intersect_weights = pd.merge(intersect, probs, how='left', left_on = 'Trap', right_on = 'Trap')\n",
    "print(len(intersect_weights.GEOID.unique()))\n",
    "intersect_weights.head()"
   ]
  },
  {
   "cell_type": "code",
   "execution_count": 44,
   "metadata": {
    "scrolled": true
   },
   "outputs": [
    {
     "data": {
      "text/plain": [
       "(2459, 9)"
      ]
     },
     "execution_count": 44,
     "metadata": {},
     "output_type": "execute_result"
    }
   ],
   "source": [
    "intersect_weights['weight_max'] = intersect_weights['intersect_'] * intersect_weights['proba_x']\n",
    "intersect_weights['weight_median'] = intersect_weights['intersect_'] * intersect_weights['proba_y']\n",
    "intersect_weights.sort_values('GEOID', inplace=True)\n",
    "intersect_weights.shape"
   ]
  },
  {
   "cell_type": "code",
   "execution_count": 45,
   "metadata": {},
   "outputs": [
    {
     "data": {
      "text/html": [
       "<div>\n",
       "<style scoped>\n",
       "    .dataframe tbody tr th:only-of-type {\n",
       "        vertical-align: middle;\n",
       "    }\n",
       "\n",
       "    .dataframe tbody tr th {\n",
       "        vertical-align: top;\n",
       "    }\n",
       "\n",
       "    .dataframe thead th {\n",
       "        text-align: right;\n",
       "    }\n",
       "</style>\n",
       "<table border=\"1\" class=\"dataframe\">\n",
       "  <thead>\n",
       "    <tr style=\"text-align: right;\">\n",
       "      <th></th>\n",
       "      <th>GEOID</th>\n",
       "      <th>weight_max</th>\n",
       "      <th>weight_median</th>\n",
       "    </tr>\n",
       "  </thead>\n",
       "  <tbody>\n",
       "    <tr>\n",
       "      <th>0</th>\n",
       "      <td>17031010100</td>\n",
       "      <td>194319.819128</td>\n",
       "      <td>11457.558399</td>\n",
       "    </tr>\n",
       "    <tr>\n",
       "      <th>1</th>\n",
       "      <td>17031010201</td>\n",
       "      <td>431111.323471</td>\n",
       "      <td>24856.526386</td>\n",
       "    </tr>\n",
       "    <tr>\n",
       "      <th>2</th>\n",
       "      <td>17031010202</td>\n",
       "      <td>410187.631132</td>\n",
       "      <td>23939.119891</td>\n",
       "    </tr>\n",
       "    <tr>\n",
       "      <th>3</th>\n",
       "      <td>17031010300</td>\n",
       "      <td>361734.047451</td>\n",
       "      <td>21430.629111</td>\n",
       "    </tr>\n",
       "    <tr>\n",
       "      <th>4</th>\n",
       "      <td>17031010400</td>\n",
       "      <td>837253.670688</td>\n",
       "      <td>59413.051993</td>\n",
       "    </tr>\n",
       "  </tbody>\n",
       "</table>\n",
       "</div>"
      ],
      "text/plain": [
       "         GEOID     weight_max  weight_median\n",
       "0  17031010100  194319.819128   11457.558399\n",
       "1  17031010201  431111.323471   24856.526386\n",
       "2  17031010202  410187.631132   23939.119891\n",
       "3  17031010300  361734.047451   21430.629111\n",
       "4  17031010400  837253.670688   59413.051993"
      ]
     },
     "execution_count": 45,
     "metadata": {},
     "output_type": "execute_result"
    }
   ],
   "source": [
    "weights = intersect_weights.groupby(['GEOID'])['weight_max', 'weight_median'].sum()\n",
    "weights.reset_index(inplace=True)\n",
    "weights.head()"
   ]
  },
  {
   "cell_type": "code",
   "execution_count": 46,
   "metadata": {
    "scrolled": true
   },
   "outputs": [
    {
     "name": "stdout",
     "output_type": "stream",
     "text": [
      "70 17031340300\n"
     ]
    }
   ],
   "source": [
    "limited_list = list(weights['GEOID'])\n",
    "\n",
    "def Diff(li1, li2): \n",
    "    li_dif = [i for i in li1 + li2 if i not in li1 or i not in li2] \n",
    "    return li_dif\n",
    "\n",
    "missing_list = Diff(limited_list, tracts_ids)\n",
    "print(len(missing_list), missing_list[0])"
   ]
  },
  {
   "cell_type": "code",
   "execution_count": 47,
   "metadata": {},
   "outputs": [
    {
     "data": {
      "text/plain": [
       "(70, 3)"
      ]
     },
     "execution_count": 47,
     "metadata": {},
     "output_type": "execute_result"
    }
   ],
   "source": [
    "new_rows = {}\n",
    "new_rows = {'GEOID': missing_list,\n",
    "            'weight_max' : 70 * list([0]),\n",
    "            'weight_median' : 70 * list([0])}\n",
    "    \n",
    "missing_rows = pd.DataFrame(new_rows)\n",
    "missing_rows.shape"
   ]
  },
  {
   "cell_type": "code",
   "execution_count": 48,
   "metadata": {},
   "outputs": [
    {
     "data": {
      "text/plain": [
       "(878, 3)"
      ]
     },
     "execution_count": 48,
     "metadata": {},
     "output_type": "execute_result"
    }
   ],
   "source": [
    "weights = pd.concat([weights, missing_rows], axis = 0)\n",
    "weights.shape"
   ]
  },
  {
   "cell_type": "code",
   "execution_count": 49,
   "metadata": {},
   "outputs": [
    {
     "name": "stdout",
     "output_type": "stream",
     "text": [
      "(878, 4)\n",
      "index              int64\n",
      "GEOID              int64\n",
      "weight_max       float64\n",
      "weight_median    float64\n",
      "dtype: object\n"
     ]
    },
    {
     "data": {
      "text/html": [
       "<div>\n",
       "<style scoped>\n",
       "    .dataframe tbody tr th:only-of-type {\n",
       "        vertical-align: middle;\n",
       "    }\n",
       "\n",
       "    .dataframe tbody tr th {\n",
       "        vertical-align: top;\n",
       "    }\n",
       "\n",
       "    .dataframe thead th {\n",
       "        text-align: right;\n",
       "    }\n",
       "</style>\n",
       "<table border=\"1\" class=\"dataframe\">\n",
       "  <thead>\n",
       "    <tr style=\"text-align: right;\">\n",
       "      <th></th>\n",
       "      <th>index</th>\n",
       "      <th>GEOID</th>\n",
       "      <th>weight_max</th>\n",
       "      <th>weight_median</th>\n",
       "    </tr>\n",
       "  </thead>\n",
       "  <tbody>\n",
       "    <tr>\n",
       "      <th>0</th>\n",
       "      <td>0</td>\n",
       "      <td>17031010100</td>\n",
       "      <td>194319.819128</td>\n",
       "      <td>11457.558399</td>\n",
       "    </tr>\n",
       "    <tr>\n",
       "      <th>1</th>\n",
       "      <td>1</td>\n",
       "      <td>17031010201</td>\n",
       "      <td>431111.323471</td>\n",
       "      <td>24856.526386</td>\n",
       "    </tr>\n",
       "    <tr>\n",
       "      <th>2</th>\n",
       "      <td>2</td>\n",
       "      <td>17031010202</td>\n",
       "      <td>410187.631132</td>\n",
       "      <td>23939.119891</td>\n",
       "    </tr>\n",
       "    <tr>\n",
       "      <th>3</th>\n",
       "      <td>3</td>\n",
       "      <td>17031010300</td>\n",
       "      <td>361734.047451</td>\n",
       "      <td>21430.629111</td>\n",
       "    </tr>\n",
       "    <tr>\n",
       "      <th>4</th>\n",
       "      <td>4</td>\n",
       "      <td>17031010400</td>\n",
       "      <td>837253.670688</td>\n",
       "      <td>59413.051993</td>\n",
       "    </tr>\n",
       "  </tbody>\n",
       "</table>\n",
       "</div>"
      ],
      "text/plain": [
       "   index        GEOID     weight_max  weight_median\n",
       "0      0  17031010100  194319.819128   11457.558399\n",
       "1      1  17031010201  431111.323471   24856.526386\n",
       "2      2  17031010202  410187.631132   23939.119891\n",
       "3      3  17031010300  361734.047451   21430.629111\n",
       "4      4  17031010400  837253.670688   59413.051993"
      ]
     },
     "execution_count": 49,
     "metadata": {},
     "output_type": "execute_result"
    }
   ],
   "source": [
    "weights.reset_index(inplace=True)\n",
    "print(weights.shape)\n",
    "print(weights.dtypes)\n",
    "weights.head()"
   ]
  },
  {
   "cell_type": "markdown",
   "metadata": {},
   "source": [
    "# Bring all together!"
   ]
  },
  {
   "cell_type": "code",
   "execution_count": 50,
   "metadata": {
    "scrolled": false
   },
   "outputs": [
    {
     "data": {
      "text/plain": [
       "geo_id              int64\n",
       "total_pop           int64\n",
       "pov_rate          float64\n",
       "pop_vulnerable      int64\n",
       "uninsured_rate    float64\n",
       "dtype: object"
      ]
     },
     "execution_count": 50,
     "metadata": {},
     "output_type": "execute_result"
    }
   ],
   "source": [
    "objects = list(tracts_census['geo_id'])\n",
    "ids = []\n",
    "for i in range(len(objects)):\n",
    "    ids.append(int(objects[i]))\n",
    "    \n",
    "tracts_census['geo_id'] = ids\n",
    "tracts_census.dtypes"
   ]
  },
  {
   "cell_type": "code",
   "execution_count": 51,
   "metadata": {},
   "outputs": [
    {
     "data": {
      "text/html": [
       "<div>\n",
       "<style scoped>\n",
       "    .dataframe tbody tr th:only-of-type {\n",
       "        vertical-align: middle;\n",
       "    }\n",
       "\n",
       "    .dataframe tbody tr th {\n",
       "        vertical-align: top;\n",
       "    }\n",
       "\n",
       "    .dataframe thead th {\n",
       "        text-align: right;\n",
       "    }\n",
       "</style>\n",
       "<table border=\"1\" class=\"dataframe\">\n",
       "  <thead>\n",
       "    <tr style=\"text-align: right;\">\n",
       "      <th></th>\n",
       "      <th>geo_id</th>\n",
       "      <th>total_pop</th>\n",
       "      <th>pov_rate</th>\n",
       "      <th>pop_vulnerable</th>\n",
       "      <th>uninsured_rate</th>\n",
       "    </tr>\n",
       "  </thead>\n",
       "  <tbody>\n",
       "    <tr>\n",
       "      <th>0</th>\n",
       "      <td>17001000100</td>\n",
       "      <td>4569</td>\n",
       "      <td>1.038739</td>\n",
       "      <td>1366</td>\n",
       "      <td>1.016634</td>\n",
       "    </tr>\n",
       "    <tr>\n",
       "      <th>1</th>\n",
       "      <td>17001000201</td>\n",
       "      <td>1937</td>\n",
       "      <td>1.166925</td>\n",
       "      <td>599</td>\n",
       "      <td>1.117192</td>\n",
       "    </tr>\n",
       "    <tr>\n",
       "      <th>2</th>\n",
       "      <td>17001000202</td>\n",
       "      <td>2563</td>\n",
       "      <td>1.170722</td>\n",
       "      <td>578</td>\n",
       "      <td>1.094030</td>\n",
       "    </tr>\n",
       "    <tr>\n",
       "      <th>3</th>\n",
       "      <td>17001000400</td>\n",
       "      <td>3403</td>\n",
       "      <td>1.316484</td>\n",
       "      <td>823</td>\n",
       "      <td>1.107210</td>\n",
       "    </tr>\n",
       "    <tr>\n",
       "      <th>4</th>\n",
       "      <td>17001000500</td>\n",
       "      <td>2298</td>\n",
       "      <td>1.251509</td>\n",
       "      <td>549</td>\n",
       "      <td>1.115842</td>\n",
       "    </tr>\n",
       "  </tbody>\n",
       "</table>\n",
       "</div>"
      ],
      "text/plain": [
       "        geo_id  total_pop  pov_rate  pop_vulnerable  uninsured_rate\n",
       "0  17001000100       4569  1.038739            1366        1.016634\n",
       "1  17001000201       1937  1.166925             599        1.117192\n",
       "2  17001000202       2563  1.170722             578        1.094030\n",
       "3  17001000400       3403  1.316484             823        1.107210\n",
       "4  17001000500       2298  1.251509             549        1.115842"
      ]
     },
     "execution_count": 51,
     "metadata": {},
     "output_type": "execute_result"
    }
   ],
   "source": [
    "tracts_census.head()"
   ]
  },
  {
   "cell_type": "code",
   "execution_count": 53,
   "metadata": {
    "scrolled": true
   },
   "outputs": [
    {
     "data": {
      "text/html": [
       "<div>\n",
       "<style scoped>\n",
       "    .dataframe tbody tr th:only-of-type {\n",
       "        vertical-align: middle;\n",
       "    }\n",
       "\n",
       "    .dataframe tbody tr th {\n",
       "        vertical-align: top;\n",
       "    }\n",
       "\n",
       "    .dataframe thead th {\n",
       "        text-align: right;\n",
       "    }\n",
       "</style>\n",
       "<table border=\"1\" class=\"dataframe\">\n",
       "  <thead>\n",
       "    <tr style=\"text-align: right;\">\n",
       "      <th></th>\n",
       "      <th>GEOID</th>\n",
       "      <th>weight_max</th>\n",
       "      <th>weight_median</th>\n",
       "    </tr>\n",
       "  </thead>\n",
       "  <tbody>\n",
       "    <tr>\n",
       "      <th>0</th>\n",
       "      <td>17031010100</td>\n",
       "      <td>194319.819128</td>\n",
       "      <td>11457.558399</td>\n",
       "    </tr>\n",
       "    <tr>\n",
       "      <th>1</th>\n",
       "      <td>17031010201</td>\n",
       "      <td>431111.323471</td>\n",
       "      <td>24856.526386</td>\n",
       "    </tr>\n",
       "    <tr>\n",
       "      <th>2</th>\n",
       "      <td>17031010202</td>\n",
       "      <td>410187.631132</td>\n",
       "      <td>23939.119891</td>\n",
       "    </tr>\n",
       "    <tr>\n",
       "      <th>3</th>\n",
       "      <td>17031010300</td>\n",
       "      <td>361734.047451</td>\n",
       "      <td>21430.629111</td>\n",
       "    </tr>\n",
       "    <tr>\n",
       "      <th>4</th>\n",
       "      <td>17031010400</td>\n",
       "      <td>837253.670688</td>\n",
       "      <td>59413.051993</td>\n",
       "    </tr>\n",
       "  </tbody>\n",
       "</table>\n",
       "</div>"
      ],
      "text/plain": [
       "         GEOID     weight_max  weight_median\n",
       "0  17031010100  194319.819128   11457.558399\n",
       "1  17031010201  431111.323471   24856.526386\n",
       "2  17031010202  410187.631132   23939.119891\n",
       "3  17031010300  361734.047451   21430.629111\n",
       "4  17031010400  837253.670688   59413.051993"
      ]
     },
     "execution_count": 53,
     "metadata": {},
     "output_type": "execute_result"
    }
   ],
   "source": [
    "weights.drop('index', inplace=True, axis =1)\n",
    "weights.head()"
   ]
  },
  {
   "cell_type": "code",
   "execution_count": 54,
   "metadata": {},
   "outputs": [
    {
     "name": "stdout",
     "output_type": "stream",
     "text": [
      "878 3123\n"
     ]
    }
   ],
   "source": [
    "weights_ids = list(weights['GEOID'])\n",
    "census_ids = list(tracts_census['geo_id'])\n",
    "print(len(weights_ids), len(census_ids))"
   ]
  },
  {
   "cell_type": "code",
   "execution_count": 57,
   "metadata": {
    "scrolled": true
   },
   "outputs": [
    {
     "name": "stdout",
     "output_type": "stream",
     "text": [
      "(878, 7)\n"
     ]
    },
    {
     "data": {
      "text/html": [
       "<div>\n",
       "<style scoped>\n",
       "    .dataframe tbody tr th:only-of-type {\n",
       "        vertical-align: middle;\n",
       "    }\n",
       "\n",
       "    .dataframe tbody tr th {\n",
       "        vertical-align: top;\n",
       "    }\n",
       "\n",
       "    .dataframe thead th {\n",
       "        text-align: right;\n",
       "    }\n",
       "</style>\n",
       "<table border=\"1\" class=\"dataframe\">\n",
       "  <thead>\n",
       "    <tr style=\"text-align: right;\">\n",
       "      <th></th>\n",
       "      <th>GEOID</th>\n",
       "      <th>weight_max</th>\n",
       "      <th>weight_median</th>\n",
       "      <th>total_pop</th>\n",
       "      <th>pov_rate</th>\n",
       "      <th>pop_vulnerable</th>\n",
       "      <th>uninsured_rate</th>\n",
       "    </tr>\n",
       "  </thead>\n",
       "  <tbody>\n",
       "    <tr>\n",
       "      <th>0</th>\n",
       "      <td>17031010100</td>\n",
       "      <td>194319.819128</td>\n",
       "      <td>11457.558399</td>\n",
       "      <td>4388</td>\n",
       "      <td>1.354015</td>\n",
       "      <td>433</td>\n",
       "      <td>1.130364</td>\n",
       "    </tr>\n",
       "    <tr>\n",
       "      <th>1</th>\n",
       "      <td>17031010201</td>\n",
       "      <td>431111.323471</td>\n",
       "      <td>24856.526386</td>\n",
       "      <td>7032</td>\n",
       "      <td>1.353184</td>\n",
       "      <td>999</td>\n",
       "      <td>1.220259</td>\n",
       "    </tr>\n",
       "    <tr>\n",
       "      <th>2</th>\n",
       "      <td>17031010202</td>\n",
       "      <td>410187.631132</td>\n",
       "      <td>23939.119891</td>\n",
       "      <td>2275</td>\n",
       "      <td>1.231988</td>\n",
       "      <td>519</td>\n",
       "      <td>1.192269</td>\n",
       "    </tr>\n",
       "    <tr>\n",
       "      <th>3</th>\n",
       "      <td>17031010300</td>\n",
       "      <td>361734.047451</td>\n",
       "      <td>21430.629111</td>\n",
       "      <td>6205</td>\n",
       "      <td>1.174871</td>\n",
       "      <td>1450</td>\n",
       "      <td>1.115070</td>\n",
       "    </tr>\n",
       "    <tr>\n",
       "      <th>4</th>\n",
       "      <td>17031010400</td>\n",
       "      <td>837253.670688</td>\n",
       "      <td>59413.051993</td>\n",
       "      <td>5603</td>\n",
       "      <td>1.175523</td>\n",
       "      <td>669</td>\n",
       "      <td>1.067642</td>\n",
       "    </tr>\n",
       "  </tbody>\n",
       "</table>\n",
       "</div>"
      ],
      "text/plain": [
       "         GEOID     weight_max  weight_median  total_pop  pov_rate  \\\n",
       "0  17031010100  194319.819128   11457.558399       4388  1.354015   \n",
       "1  17031010201  431111.323471   24856.526386       7032  1.353184   \n",
       "2  17031010202  410187.631132   23939.119891       2275  1.231988   \n",
       "3  17031010300  361734.047451   21430.629111       6205  1.174871   \n",
       "4  17031010400  837253.670688   59413.051993       5603  1.175523   \n",
       "\n",
       "   pop_vulnerable  uninsured_rate  \n",
       "0             433        1.130364  \n",
       "1             999        1.220259  \n",
       "2             519        1.192269  \n",
       "3            1450        1.115070  \n",
       "4             669        1.067642  "
      ]
     },
     "execution_count": 57,
     "metadata": {},
     "output_type": "execute_result"
    }
   ],
   "source": [
    "# attach census data to final tracts\n",
    "tracts_final = pd.merge(weights, tracts_census, left_on='GEOID', right_on='geo_id', copy=False)\n",
    "tracts_final.drop('geo_id', inplace=True, axis=1)\n",
    "print(tracts_final.shape)\n",
    "limited_list = list(tracts_final['GEOID'])\n",
    "tracts_final.head()"
   ]
  },
  {
   "cell_type": "code",
   "execution_count": 58,
   "metadata": {},
   "outputs": [],
   "source": [
    "tracts_final.to_csv('./data/tracts_final_csv.csv')"
   ]
  },
  {
   "cell_type": "code",
   "execution_count": null,
   "metadata": {},
   "outputs": [],
   "source": []
  },
  {
   "cell_type": "code",
   "execution_count": null,
   "metadata": {},
   "outputs": [],
   "source": []
  }
 ],
 "metadata": {
  "kernelspec": {
   "display_name": "Python 3",
   "language": "python",
   "name": "python3"
  },
  "language_info": {
   "codemirror_mode": {
    "name": "ipython",
    "version": 3
   },
   "file_extension": ".py",
   "mimetype": "text/x-python",
   "name": "python",
   "nbconvert_exporter": "python",
   "pygments_lexer": "ipython3",
   "version": "3.6.5"
  }
 },
 "nbformat": 4,
 "nbformat_minor": 2
}
