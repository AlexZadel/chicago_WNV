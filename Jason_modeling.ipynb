{
 "cells": [
  {
   "cell_type": "markdown",
   "metadata": {},
   "source": [
    "# Import and Load"
   ]
  },
  {
   "cell_type": "code",
   "execution_count": 2,
   "metadata": {},
   "outputs": [],
   "source": [
    "import pandas as pd\n",
    "import numpy as np\n",
    "import seaborn as sns\n",
    "import matplotlib.pyplot as plt\n",
    "\n",
    "sns.set_style('darkgrid')\n",
    "\n",
    "%config InlineBackend.figure_format = 'retina'\n",
    "%matplotlib inline"
   ]
  },
  {
   "cell_type": "code",
   "execution_count": 124,
   "metadata": {},
   "outputs": [],
   "source": [
    "df_train = pd.read_csv('./data/train.csv')\n",
    "df_test = pd.read_csv('./data/test.csv')\n",
    "df_spray = pd.read_csv('./data/spray.csv')\n",
    "df_weather = pd.read_csv('./data/OhareDaily.csv')\n",
    "df_traps = pd.read_csv('./data/trap_history.csv')"
   ]
  },
  {
   "cell_type": "code",
   "execution_count": 3,
   "metadata": {},
   "outputs": [
    {
     "name": "stdout",
     "output_type": "stream",
     "text": [
      "(10506, 12)\n",
      "(116293, 11)\n",
      "(14835, 4)\n",
      "(2163, 38)\n",
      "(148, 8)\n"
     ]
    }
   ],
   "source": [
    "print(df_train.shape)\n",
    "print(df_test.shape)\n",
    "print(df_spray.shape)\n",
    "print(df_weather.shape)\n",
    "print(df_traps.shape)"
   ]
  },
  {
   "cell_type": "markdown",
   "metadata": {},
   "source": [
    "# Combine Trap info by date to sum NumMosquitos"
   ]
  },
  {
   "cell_type": "code",
   "execution_count": 125,
   "metadata": {},
   "outputs": [],
   "source": [
    "df_train_short = pd.DataFrame(df_train.groupby(['Date', 'Address', 'Species', 'Block', 'Street', 'Trap',\n",
    "       'AddressNumberAndStreet', 'Latitude', 'Longitude', 'AddressAccuracy'], as_index=False)['NumMosquitos', 'WnvPresent'].sum())"
   ]
  },
  {
   "cell_type": "code",
   "execution_count": 126,
   "metadata": {},
   "outputs": [
    {
     "data": {
      "text/plain": [
       "0     8018\n",
       "1      409\n",
       "2       31\n",
       "3        9\n",
       "4        2\n",
       "7        1\n",
       "6        1\n",
       "5        1\n",
       "10       1\n",
       "9        1\n",
       "8        1\n",
       "Name: WnvPresent, dtype: int64"
      ]
     },
     "execution_count": 126,
     "metadata": {},
     "output_type": "execute_result"
    }
   ],
   "source": [
    "df_train_short['WnvPresent'].value_counts()"
   ]
  },
  {
   "cell_type": "code",
   "execution_count": 127,
   "metadata": {},
   "outputs": [],
   "source": [
    "df_train_short['pct'] = df_train_short['WnvPresent'] / df_train_short['NumMosquitos']"
   ]
  },
  {
   "cell_type": "code",
   "execution_count": 128,
   "metadata": {},
   "outputs": [],
   "source": [
    "df_train_short['WnvPresent'] = np.where(df_train_short['WnvPresent'] > 0, 1, 0)"
   ]
  },
  {
   "cell_type": "code",
   "execution_count": 37,
   "metadata": {},
   "outputs": [
    {
     "data": {
      "text/html": [
       "<div>\n",
       "<style scoped>\n",
       "    .dataframe tbody tr th:only-of-type {\n",
       "        vertical-align: middle;\n",
       "    }\n",
       "\n",
       "    .dataframe tbody tr th {\n",
       "        vertical-align: top;\n",
       "    }\n",
       "\n",
       "    .dataframe thead th {\n",
       "        text-align: right;\n",
       "    }\n",
       "</style>\n",
       "<table border=\"1\" class=\"dataframe\">\n",
       "  <thead>\n",
       "    <tr style=\"text-align: right;\">\n",
       "      <th></th>\n",
       "      <th>Date</th>\n",
       "      <th>Address</th>\n",
       "      <th>Species</th>\n",
       "      <th>Block</th>\n",
       "      <th>Street</th>\n",
       "      <th>Trap</th>\n",
       "      <th>AddressNumberAndStreet</th>\n",
       "      <th>Latitude</th>\n",
       "      <th>Longitude</th>\n",
       "      <th>AddressAccuracy</th>\n",
       "      <th>NumMosquitos</th>\n",
       "      <th>WnvPresent</th>\n",
       "      <th>pct</th>\n",
       "    </tr>\n",
       "  </thead>\n",
       "  <tbody>\n",
       "    <tr>\n",
       "      <th>0</th>\n",
       "      <td>2007-05-29</td>\n",
       "      <td>1100 Roosevelt Road, Chicago, IL 60608, USA</td>\n",
       "      <td>CULEX PIPIENS/RESTUANS</td>\n",
       "      <td>11</td>\n",
       "      <td>W ROOSEVELT</td>\n",
       "      <td>T048</td>\n",
       "      <td>1100  W ROOSEVELT, Chicago, IL</td>\n",
       "      <td>41.867108</td>\n",
       "      <td>-87.654224</td>\n",
       "      <td>8</td>\n",
       "      <td>1</td>\n",
       "      <td>0</td>\n",
       "      <td>0.0</td>\n",
       "    </tr>\n",
       "    <tr>\n",
       "      <th>1</th>\n",
       "      <td>2007-05-29</td>\n",
       "      <td>1100 Roosevelt Road, Chicago, IL 60608, USA</td>\n",
       "      <td>CULEX RESTUANS</td>\n",
       "      <td>11</td>\n",
       "      <td>W ROOSEVELT</td>\n",
       "      <td>T048</td>\n",
       "      <td>1100  W ROOSEVELT, Chicago, IL</td>\n",
       "      <td>41.867108</td>\n",
       "      <td>-87.654224</td>\n",
       "      <td>8</td>\n",
       "      <td>2</td>\n",
       "      <td>0</td>\n",
       "      <td>0.0</td>\n",
       "    </tr>\n",
       "    <tr>\n",
       "      <th>2</th>\n",
       "      <td>2007-05-29</td>\n",
       "      <td>1100 South Peoria Street, Chicago, IL 60608, USA</td>\n",
       "      <td>CULEX RESTUANS</td>\n",
       "      <td>11</td>\n",
       "      <td>S PEORIA ST</td>\n",
       "      <td>T091</td>\n",
       "      <td>1100  S PEORIA ST, Chicago, IL</td>\n",
       "      <td>41.862292</td>\n",
       "      <td>-87.648860</td>\n",
       "      <td>8</td>\n",
       "      <td>1</td>\n",
       "      <td>0</td>\n",
       "      <td>0.0</td>\n",
       "    </tr>\n",
       "    <tr>\n",
       "      <th>3</th>\n",
       "      <td>2007-05-29</td>\n",
       "      <td>1100 West Chicago Avenue, Chicago, IL 60642, USA</td>\n",
       "      <td>CULEX RESTUANS</td>\n",
       "      <td>11</td>\n",
       "      <td>W CHICAGO</td>\n",
       "      <td>T049</td>\n",
       "      <td>1100  W CHICAGO, Chicago, IL</td>\n",
       "      <td>41.896282</td>\n",
       "      <td>-87.655232</td>\n",
       "      <td>8</td>\n",
       "      <td>1</td>\n",
       "      <td>0</td>\n",
       "      <td>0.0</td>\n",
       "    </tr>\n",
       "    <tr>\n",
       "      <th>4</th>\n",
       "      <td>2007-05-29</td>\n",
       "      <td>1500 North Long Avenue, Chicago, IL 60651, USA</td>\n",
       "      <td>CULEX RESTUANS</td>\n",
       "      <td>15</td>\n",
       "      <td>N LONG AVE</td>\n",
       "      <td>T153</td>\n",
       "      <td>1500  N LONG AVE, Chicago, IL</td>\n",
       "      <td>41.907645</td>\n",
       "      <td>-87.760886</td>\n",
       "      <td>8</td>\n",
       "      <td>1</td>\n",
       "      <td>0</td>\n",
       "      <td>0.0</td>\n",
       "    </tr>\n",
       "  </tbody>\n",
       "</table>\n",
       "</div>"
      ],
      "text/plain": [
       "         Date                                           Address  \\\n",
       "0  2007-05-29       1100 Roosevelt Road, Chicago, IL 60608, USA   \n",
       "1  2007-05-29       1100 Roosevelt Road, Chicago, IL 60608, USA   \n",
       "2  2007-05-29  1100 South Peoria Street, Chicago, IL 60608, USA   \n",
       "3  2007-05-29  1100 West Chicago Avenue, Chicago, IL 60642, USA   \n",
       "4  2007-05-29    1500 North Long Avenue, Chicago, IL 60651, USA   \n",
       "\n",
       "                  Species  Block        Street  Trap  \\\n",
       "0  CULEX PIPIENS/RESTUANS     11   W ROOSEVELT  T048   \n",
       "1          CULEX RESTUANS     11   W ROOSEVELT  T048   \n",
       "2          CULEX RESTUANS     11   S PEORIA ST  T091   \n",
       "3          CULEX RESTUANS     11     W CHICAGO  T049   \n",
       "4          CULEX RESTUANS     15    N LONG AVE  T153   \n",
       "\n",
       "           AddressNumberAndStreet   Latitude  Longitude  AddressAccuracy  \\\n",
       "0  1100  W ROOSEVELT, Chicago, IL  41.867108 -87.654224                8   \n",
       "1  1100  W ROOSEVELT, Chicago, IL  41.867108 -87.654224                8   \n",
       "2  1100  S PEORIA ST, Chicago, IL  41.862292 -87.648860                8   \n",
       "3    1100  W CHICAGO, Chicago, IL  41.896282 -87.655232                8   \n",
       "4   1500  N LONG AVE, Chicago, IL  41.907645 -87.760886                8   \n",
       "\n",
       "   NumMosquitos  WnvPresent  pct  \n",
       "0             1           0  0.0  \n",
       "1             2           0  0.0  \n",
       "2             1           0  0.0  \n",
       "3             1           0  0.0  \n",
       "4             1           0  0.0  "
      ]
     },
     "execution_count": 37,
     "metadata": {},
     "output_type": "execute_result"
    }
   ],
   "source": [
    "df_train_short.head()"
   ]
  },
  {
   "cell_type": "code",
   "execution_count": 129,
   "metadata": {},
   "outputs": [],
   "source": [
    "df_train_short['is_carrier'] = np.where(df_train_short['Species'] == 'CULEX PIPIENS/RESTUANS', 1,\n",
    "                         np.where(df_train_short['Species'] == 'CULEX RESTUANS ', 1,\n",
    "                         np.where(df_train_short['Species'] == 'CULEX PIPIENS ', 1,\n",
    "                         np.where(df_train_short['Species'] == 'CULEX TARSALIS', 1, 0))))\n",
    "\n",
    "                         "
   ]
  },
  {
   "cell_type": "markdown",
   "metadata": {},
   "source": [
    "# Change Date column to Date time and Set as index"
   ]
  },
  {
   "cell_type": "code",
   "execution_count": 130,
   "metadata": {},
   "outputs": [],
   "source": [
    "df_train_short['Date'] = pd.to_datetime(df_train_short['Date'])\n",
    "df_weather['Date'] = pd.to_datetime(df_weather['Date'])"
   ]
  },
  {
   "cell_type": "code",
   "execution_count": 131,
   "metadata": {},
   "outputs": [],
   "source": [
    "df_weather.set_index('Date', inplace=True)"
   ]
  },
  {
   "cell_type": "code",
   "execution_count": 132,
   "metadata": {},
   "outputs": [],
   "source": [
    "df_train_short.set_index('Date', inplace=True)"
   ]
  },
  {
   "cell_type": "markdown",
   "metadata": {},
   "source": [
    "# Merge Weather data onto Train Data"
   ]
  },
  {
   "cell_type": "code",
   "execution_count": 133,
   "metadata": {
    "scrolled": false
   },
   "outputs": [],
   "source": [
    "df_train_weather = pd.merge(left=df_train_short, right=df_weather, left_index=True, right_index=True)"
   ]
  },
  {
   "cell_type": "markdown",
   "metadata": {},
   "source": [
    "### Reset Index on combined DataFrame"
   ]
  },
  {
   "cell_type": "code",
   "execution_count": 134,
   "metadata": {},
   "outputs": [],
   "source": [
    "df_train_weather.reset_index(inplace=True)"
   ]
  },
  {
   "cell_type": "markdown",
   "metadata": {},
   "source": [
    "### Set index to Trap to comine trap data"
   ]
  },
  {
   "cell_type": "code",
   "execution_count": 135,
   "metadata": {},
   "outputs": [],
   "source": [
    "df_train_weather.set_index('Trap', inplace=True)\n",
    "df_traps.set_index('Trap', inplace=True)"
   ]
  },
  {
   "cell_type": "markdown",
   "metadata": {},
   "source": [
    "# Merge Trap Data onto Train and Weather Data"
   ]
  },
  {
   "cell_type": "code",
   "execution_count": 136,
   "metadata": {},
   "outputs": [],
   "source": [
    "df_train_weather_traps = pd.merge(left=df_train_weather, right=df_traps, left_index=True, right_index=True)"
   ]
  },
  {
   "cell_type": "code",
   "execution_count": 137,
   "metadata": {},
   "outputs": [],
   "source": [
    "df_train_weather_traps.reset_index(inplace=True)"
   ]
  },
  {
   "cell_type": "markdown",
   "metadata": {},
   "source": [
    "# Model"
   ]
  },
  {
   "cell_type": "code",
   "execution_count": 159,
   "metadata": {},
   "outputs": [],
   "source": [
    "from sklearn.model_selection import train_test_split, GridSearchCV\n",
    "from sklearn.preprocessing import StandardScaler, MinMaxScaler\n",
    "from sklearn.pipeline import Pipeline\n",
    "from sklearn.linear_model import LogisticRegression\n",
    "from sklearn.tree import DecisionTreeClassifier\n",
    "from sklearn.naive_bayes import GaussianNB\n",
    "from sklearn.svm import SVC\n",
    "from sklearn.ensemble import RandomForestClassifier, BaggingClassifier, AdaBoostClassifier, GradientBoostingClassifier\n",
    "from sklearn.neighbors import KNeighborsClassifier\n",
    "from sklearn.metrics import accuracy_score, confusion_matrix, precision_score, recall_score, roc_auc_score, auc\n",
    "from sklearn import metrics \n",
    "from sklearn.metrics import classification_report"
   ]
  },
  {
   "cell_type": "code",
   "execution_count": 138,
   "metadata": {},
   "outputs": [],
   "source": [
    "# set combined dataframe of train and weather to df \n",
    "df = df_train_weather_traps"
   ]
  },
  {
   "cell_type": "code",
   "execution_count": 139,
   "metadata": {},
   "outputs": [],
   "source": [
    "# get dummies for each species\n",
    "df = pd.get_dummies(df, columns=['Species'])"
   ]
  },
  {
   "cell_type": "code",
   "execution_count": 140,
   "metadata": {},
   "outputs": [
    {
     "data": {
      "text/plain": [
       "Index(['Trap', 'Date', 'Address', 'Block', 'Street', 'AddressNumberAndStreet',\n",
       "       'Latitude', 'Longitude', 'AddressAccuracy', 'NumMosquitos',\n",
       "       'WnvPresent', 'pct', 'is_carrier', 'Average of Temp (F)',\n",
       "       'Max of Temp (F)', 'Min of Temp (F)', 'Average of RH (%)',\n",
       "       'Average of Dewpt (F)', 'Average of Wind Spd (mph)',\n",
       "       'Sum of Precip (in)', 'Location', 'Lat', 'Lon', 'Elev', 'Month', 'Day',\n",
       "       'Year', 'MaxT7', 'MaxT14', 'MaxT21', 'MinT7', 'MinT14', 'MinT21',\n",
       "       'AvgT7', 'AvgT14', 'AvgT21', 'AvgT28', 'Rain7', 'Rain10', 'Rain14',\n",
       "       'Rain17', 'Rain21', 'Rain24', 'Rain28', 'MaxR7', 'MaxR14', 'MaxR21',\n",
       "       'MaxR2d7', 'MaxR2d14', 'MaxR2d21', 'any_positive', 'avg_mosq_per_obs',\n",
       "       'n_obs', 'percent_pos', 'neighbor_mosq_score', 'neighbor_onehot_score',\n",
       "       'neighbor_posrate_score', 'Species_CULEX ERRATICUS',\n",
       "       'Species_CULEX PIPIENS', 'Species_CULEX PIPIENS/RESTUANS',\n",
       "       'Species_CULEX RESTUANS', 'Species_CULEX SALINARIUS',\n",
       "       'Species_CULEX TARSALIS', 'Species_CULEX TERRITANS'],\n",
       "      dtype='object')"
      ]
     },
     "execution_count": 140,
     "metadata": {},
     "output_type": "execute_result"
    }
   ],
   "source": [
    "df.columns"
   ]
  },
  {
   "cell_type": "code",
   "execution_count": 223,
   "metadata": {},
   "outputs": [],
   "source": [
    "# create a list of maual feaures to be used for both train and test sets\n",
    "features = ['is_carrier', 'Latitude', 'Longitude',\n",
    "            'Month', 'Year', 'MaxT21', 'AvgT21',\n",
    "            'Rain24', 'MaxR14', \n",
    "            'Species_CULEX ERRATICUS',\n",
    "            'Species_CULEX PIPIENS', 'Species_CULEX PIPIENS/RESTUANS',\n",
    "            'Species_CULEX RESTUANS', 'Species_CULEX SALINARIUS',\n",
    "             'Species_CULEX TARSALIS', 'Species_CULEX TERRITANS'\n",
    "    ]\n",
    "\n",
    "\n"
   ]
  },
  {
   "cell_type": "code",
   "execution_count": 224,
   "metadata": {},
   "outputs": [
    {
     "name": "stdout",
     "output_type": "stream",
     "text": [
      "X_train : (5932, 16)\n",
      "X_test : (2543, 16)\n",
      "y_train : (5932,)\n",
      "y_test : (2543,)\n"
     ]
    }
   ],
   "source": [
    "# set X to the manually selected features above\n",
    "X = df[features]\n",
    "\n",
    "# set y equal to the target column\n",
    "y = df['WnvPresent']\n",
    "\n",
    "#train test split, stratify on y, set random state\n",
    "X_train, X_test, y_train, y_test = train_test_split(X, y, test_size = 0.3, stratify=y, random_state = 34)\n",
    "\n",
    "# show shape of splits\n",
    "print(\"X_train : \" + str(X_train.shape))\n",
    "print(\"X_test : \" + str(X_test.shape))\n",
    "print(\"y_train : \" + str(y_train.shape))\n",
    "print(\"y_test : \" + str(y_test.shape))"
   ]
  },
  {
   "cell_type": "code",
   "execution_count": 203,
   "metadata": {},
   "outputs": [],
   "source": [
    "ss = StandardScaler()\n",
    "X_train = ss.fit_transform(X_train)\n",
    "X_test = ss.transform(X_test)"
   ]
  },
  {
   "cell_type": "markdown",
   "metadata": {},
   "source": [
    "# Logistic Regression"
   ]
  },
  {
   "cell_type": "code",
   "execution_count": 50,
   "metadata": {},
   "outputs": [
    {
     "name": "stdout",
     "output_type": "stream",
     "text": [
      "Fitting 3 folds for each of 10 candidates, totalling 30 fits\n"
     ]
    },
    {
     "name": "stderr",
     "output_type": "stream",
     "text": [
      "[Parallel(n_jobs=1)]: Done  30 out of  30 | elapsed:   48.6s finished\n"
     ]
    },
    {
     "name": "stdout",
     "output_type": "stream",
     "text": [
      "{'C': 1.0, 'penalty': 'l2'}\n",
      "0.8388488278844835\n"
     ]
    }
   ],
   "source": [
    "logreg = LogisticRegression()\n",
    "params = {\n",
    "    'penalty': ['l1', 'l2'],\n",
    "    'C': np.linspace(1, 10, 5)\n",
    "    \n",
    "}\n",
    "gs_logreg = GridSearchCV(logreg, param_grid=params , scoring='roc_auc', verbose=1, return_train_score=True)\n",
    "\n",
    "gs_logreg.fit(X_train, y_train)\n",
    "\n",
    "print(gs_logreg.best_params_)\n",
    "print(gs_logreg.best_score_)"
   ]
  },
  {
   "cell_type": "code",
   "execution_count": 51,
   "metadata": {},
   "outputs": [
    {
     "data": {
      "text/plain": [
       "LogisticRegression(C=1.0, class_weight=None, dual=False, fit_intercept=True,\n",
       "          intercept_scaling=1, max_iter=100, multi_class='ovr', n_jobs=1,\n",
       "          penalty='l2', random_state=None, solver='liblinear', tol=0.0001,\n",
       "          verbose=0, warm_start=False)"
      ]
     },
     "execution_count": 51,
     "metadata": {},
     "output_type": "execute_result"
    }
   ],
   "source": [
    "model = LogisticRegression(penalty='l2', C=1.0)\n",
    "model.fit(X_train,y_train)"
   ]
  },
  {
   "cell_type": "markdown",
   "metadata": {},
   "source": [
    "# PCA"
   ]
  },
  {
   "cell_type": "code",
   "execution_count": 49,
   "metadata": {},
   "outputs": [],
   "source": [
    "from sklearn.decomposition import PCA"
   ]
  },
  {
   "cell_type": "code",
   "execution_count": 55,
   "metadata": {},
   "outputs": [
    {
     "name": "stdout",
     "output_type": "stream",
     "text": [
      "Fitting 3 folds for each of 10 candidates, totalling 30 fits\n"
     ]
    },
    {
     "name": "stderr",
     "output_type": "stream",
     "text": [
      "[Parallel(n_jobs=1)]: Done  30 out of  30 | elapsed:   33.3s finished\n"
     ]
    },
    {
     "name": "stdout",
     "output_type": "stream",
     "text": [
      "{'C': 10.0, 'penalty': 'l1'}\n",
      "0.8276845759700706\n"
     ]
    }
   ],
   "source": [
    "pca = PCA(n_components=20)\n",
    "pca.fit(X_train)\n",
    "X_train_pca = pca.transform(X_train)\n",
    "X_test_pca = pca.transform(X_test)\n",
    "gs_logreg.fit(X_train_pca, y_train)\n",
    "\n",
    "print(gs_logreg.best_params_)\n",
    "print(gs_logreg.best_score_)"
   ]
  },
  {
   "cell_type": "markdown",
   "metadata": {},
   "source": [
    "# Random Forest Classifier"
   ]
  },
  {
   "cell_type": "code",
   "execution_count": null,
   "metadata": {},
   "outputs": [],
   "source": [
    "model = RandomForestClassifier(min_samples_split=3, min_samples_leaf=10, class_weight='balanced', n_estimators=1000)\n",
    "model.fit(X_train,y_train)"
   ]
  },
  {
   "cell_type": "code",
   "execution_count": 179,
   "metadata": {},
   "outputs": [
    {
     "name": "stdout",
     "output_type": "stream",
     "text": [
      "Fitting 3 folds for each of 8 candidates, totalling 24 fits\n"
     ]
    },
    {
     "name": "stderr",
     "output_type": "stream",
     "text": [
      "[Parallel(n_jobs=3)]: Done  24 out of  24 | elapsed:   42.4s finished\n"
     ]
    },
    {
     "name": "stdout",
     "output_type": "stream",
     "text": [
      "{'class_weight': 'balanced', 'min_samples_leaf': 10, 'min_samples_split': 3, 'n_estimators': 900}\n",
      "0.8204269666379987\n"
     ]
    }
   ],
   "source": [
    "params = {\n",
    "    'min_samples_split': [3,4],\n",
    "    'min_samples_leaf': range(9, 11, 1),\n",
    "    'class_weight': ['balanced'],\n",
    "    'n_estimators': [900, 1000],\n",
    "}\n",
    "\n",
    "gs_rf = GridSearchCV(RandomForestClassifier(), param_grid=params, scoring='roc_auc', verbose=1, cv=3, n_jobs=3)\n",
    "gs_rf.fit(X_train, y_train)\n",
    "\n",
    "print(gs_rf.best_params_)\n",
    "print(gs_rf.best_score_)"
   ]
  },
  {
   "cell_type": "code",
   "execution_count": 204,
   "metadata": {},
   "outputs": [
    {
     "data": {
      "text/plain": [
       "RandomForestClassifier(bootstrap=True, class_weight='balanced',\n",
       "            criterion='gini', max_depth=None, max_features='auto',\n",
       "            max_leaf_nodes=None, min_impurity_decrease=0.0,\n",
       "            min_impurity_split=None, min_samples_leaf=10,\n",
       "            min_samples_split=3, min_weight_fraction_leaf=0.0,\n",
       "            n_estimators=1000, n_jobs=1, oob_score=False,\n",
       "            random_state=None, verbose=0, warm_start=False)"
      ]
     },
     "execution_count": 204,
     "metadata": {},
     "output_type": "execute_result"
    }
   ],
   "source": [
    "model = RandomForestClassifier(min_samples_split=3, min_samples_leaf=10, class_weight='balanced', n_estimators=1000)\n",
    "model.fit(X_train,y_train)"
   ]
  },
  {
   "cell_type": "markdown",
   "metadata": {},
   "source": [
    "# Evaluate Model"
   ]
  },
  {
   "cell_type": "markdown",
   "metadata": {},
   "source": [
    "## Random Forrest v 1.0\n",
    "RandomForestClassifier(bootstrap=True, class_weight='balanced',\n",
    "            criterion='gini', max_depth=None, max_features='auto',\n",
    "            max_leaf_nodes=None, min_impurity_decrease=0.0,\n",
    "            min_impurity_split=None, min_samples_leaf=10,\n",
    "            min_samples_split=3, min_weight_fraction_leaf=0.0,\n",
    "            n_estimators=1000, n_jobs=1, oob_score=False,\n",
    "            random_state=None, verbose=0, warm_start=False)\n",
    "            \n",
    "features = ['is_carrier', 'Latitude', 'Longitude',\n",
    "            'Month', 'Year', 'MaxT21', 'AvgT21',\n",
    "            'Rain24', 'MaxR14', \n",
    "            'Species_CULEX ERRATICUS',\n",
    "            'Species_CULEX PIPIENS', 'Species_CULEX PIPIENS/RESTUANS',\n",
    "            'Species_CULEX RESTUANS', 'Species_CULEX SALINARIUS',\n",
    "             'Species_CULEX TARSALIS', 'Species_CULEX TERRITANS'\n",
    "    ]"
   ]
  },
  {
   "cell_type": "code",
   "execution_count": 205,
   "metadata": {},
   "outputs": [],
   "source": [
    "predictions = model.predict(X_test) "
   ]
  },
  {
   "cell_type": "code",
   "execution_count": 208,
   "metadata": {},
   "outputs": [
    {
     "data": {
      "text/html": [
       "<div>\n",
       "<style scoped>\n",
       "    .dataframe tbody tr th:only-of-type {\n",
       "        vertical-align: middle;\n",
       "    }\n",
       "\n",
       "    .dataframe tbody tr th {\n",
       "        vertical-align: top;\n",
       "    }\n",
       "\n",
       "    .dataframe thead th {\n",
       "        text-align: right;\n",
       "    }\n",
       "</style>\n",
       "<table border=\"1\" class=\"dataframe\">\n",
       "  <thead>\n",
       "    <tr style=\"text-align: right;\">\n",
       "      <th></th>\n",
       "      <th>predicted pos wnv</th>\n",
       "      <th>predicted neg wnv</th>\n",
       "    </tr>\n",
       "  </thead>\n",
       "  <tbody>\n",
       "    <tr>\n",
       "      <th>actual pos wnv</th>\n",
       "      <td>84</td>\n",
       "      <td>53</td>\n",
       "    </tr>\n",
       "    <tr>\n",
       "      <th>actual neg wnv</th>\n",
       "      <td>301</td>\n",
       "      <td>2105</td>\n",
       "    </tr>\n",
       "  </tbody>\n",
       "</table>\n",
       "</div>"
      ],
      "text/plain": [
       "                predicted pos wnv  predicted neg wnv\n",
       "actual pos wnv                 84                 53\n",
       "actual neg wnv                301               2105"
      ]
     },
     "execution_count": 208,
     "metadata": {},
     "output_type": "execute_result"
    }
   ],
   "source": [
    "cm = confusion_matrix(y_test, predictions, labels=[1,0])\n",
    "cm_df = pd.DataFrame(cm, columns=['predicted pos wnv', 'predicted neg wnv'],\n",
    "                     index=['actual pos wnv', 'actual neg wnv'])\n",
    "cm_df"
   ]
  },
  {
   "cell_type": "code",
   "execution_count": 209,
   "metadata": {},
   "outputs": [],
   "source": [
    "probs = model.predict_proba(X_test)\n",
    "preds = probs[:,1]\n",
    "fpr, tpr, threshold = metrics.roc_curve(y_test, preds)\n",
    "roc_auc = metrics.auc(fpr, tpr)"
   ]
  },
  {
   "cell_type": "code",
   "execution_count": 211,
   "metadata": {},
   "outputs": [
    {
     "data": {
      "image/png": "[encoded data removed]",
      "text/plain": [
       "<Figure size 576x576 with 1 Axes>"
      ]
     },
     "metadata": {
      "image/png": {
       "height": 494,
       "width": 502
      }
     },
     "output_type": "display_data"
    }
   ],
   "source": [
    "plt.figure(figsize=(8,8))\n",
    "plt.title('Receiver Operating Characteristic')\n",
    "plt.plot(fpr, tpr, 'b', label = 'AUC = %0.2f' % roc_auc)\n",
    "plt.legend(loc = 'lower right')\n",
    "plt.plot([0, 1], [0, 1],'r--')\n",
    "plt.xlim([0, 1])\n",
    "plt.ylim([0, 1])\n",
    "plt.ylabel('True Positive Rate')\n",
    "plt.xlabel('False Positive Rate')\n",
    "plt.show()"
   ]
  },
  {
   "cell_type": "markdown",
   "metadata": {},
   "source": [
    "## Random Forrest v 1.1 - higher sensitivity, lower accuracy\n",
    "RandomForestClassifier(bootstrap=True, class_weight='balanced',\n",
    "            criterion='gini', max_depth=None, max_features='auto',\n",
    "            max_leaf_nodes=None, min_impurity_decrease=0.0,\n",
    "            min_impurity_split=None, min_samples_leaf=10,\n",
    "            min_samples_split=3, min_weight_fraction_leaf=0.0,\n",
    "            n_estimators=1000, n_jobs=1, oob_score=False,\n",
    "            random_state=None, verbose=0, warm_start=False)\n",
    "            \n",
    "features = ['is_carrier',\n",
    "            'Month', 'Year', 'MaxT21', 'AvgT21',\n",
    "            'Rain24', 'MaxR14', \n",
    "            'Species_CULEX ERRATICUS',\n",
    "            'Species_CULEX PIPIENS', 'Species_CULEX PIPIENS/RESTUANS',\n",
    "            'Species_CULEX RESTUANS', 'Species_CULEX SALINARIUS',\n",
    "             'Species_CULEX TARSALIS', 'Species_CULEX TERRITANS'\n",
    "    ]"
   ]
  },
  {
   "cell_type": "code",
   "execution_count": 183,
   "metadata": {
    "scrolled": true
   },
   "outputs": [
    {
     "data": {
      "text/plain": [
       "array([[ 107,   30],\n",
       "       [ 607, 1799]], dtype=int64)"
      ]
     },
     "execution_count": 183,
     "metadata": {},
     "output_type": "execute_result"
    }
   ],
   "source": [
    "cm"
   ]
  },
  {
   "cell_type": "code",
   "execution_count": 185,
   "metadata": {},
   "outputs": [],
   "source": [
    "cm_df = pd.DataFrame(cm, columns=['predicted pos wnv', 'predicted neg wnv'],\n",
    "                     index=['actual pos wnv', 'actual neg wnv'])"
   ]
  },
  {
   "cell_type": "code",
   "execution_count": 186,
   "metadata": {},
   "outputs": [
    {
     "data": {
      "text/html": [
       "<div>\n",
       "<style scoped>\n",
       "    .dataframe tbody tr th:only-of-type {\n",
       "        vertical-align: middle;\n",
       "    }\n",
       "\n",
       "    .dataframe tbody tr th {\n",
       "        vertical-align: top;\n",
       "    }\n",
       "\n",
       "    .dataframe thead th {\n",
       "        text-align: right;\n",
       "    }\n",
       "</style>\n",
       "<table border=\"1\" class=\"dataframe\">\n",
       "  <thead>\n",
       "    <tr style=\"text-align: right;\">\n",
       "      <th></th>\n",
       "      <th>predicted pos wnv</th>\n",
       "      <th>predicted neg wnv</th>\n",
       "    </tr>\n",
       "  </thead>\n",
       "  <tbody>\n",
       "    <tr>\n",
       "      <th>actual pos wnv</th>\n",
       "      <td>107</td>\n",
       "      <td>30</td>\n",
       "    </tr>\n",
       "    <tr>\n",
       "      <th>actual neg wnv</th>\n",
       "      <td>607</td>\n",
       "      <td>1799</td>\n",
       "    </tr>\n",
       "  </tbody>\n",
       "</table>\n",
       "</div>"
      ],
      "text/plain": [
       "                predicted pos wnv  predicted neg wnv\n",
       "actual pos wnv                107                 30\n",
       "actual neg wnv                607               1799"
      ]
     },
     "execution_count": 186,
     "metadata": {},
     "output_type": "execute_result"
    }
   ],
   "source": [
    "cm_df"
   ]
  },
  {
   "cell_type": "code",
   "execution_count": 187,
   "metadata": {},
   "outputs": [
    {
     "name": "stdout",
     "output_type": "stream",
     "text": [
      "             precision    recall  f1-score   support\n",
      "\n",
      "          0       0.98      0.75      0.85      2406\n",
      "          1       0.15      0.78      0.25       137\n",
      "\n",
      "avg / total       0.94      0.75      0.82      2543\n",
      "\n"
     ]
    }
   ],
   "source": [
    "print(classification_report(y_test, predictions))"
   ]
  },
  {
   "cell_type": "code",
   "execution_count": 188,
   "metadata": {},
   "outputs": [],
   "source": [
    "probs = model.predict_proba(X_test)\n",
    "preds = probs[:,1]\n",
    "fpr, tpr, threshold = metrics.roc_curve(y_test, preds)\n",
    "roc_auc = metrics.auc(fpr, tpr)"
   ]
  },
  {
   "cell_type": "code",
   "execution_count": 189,
   "metadata": {},
   "outputs": [
    {
     "data": {
      "image/png": "[encoded data removed]",
      "text/plain": [
       "<Figure size 1008x1008 with 1 Axes>"
      ]
     },
     "metadata": {
      "image/png": {
       "height": 820,
       "width": 837
      }
     },
     "output_type": "display_data"
    }
   ],
   "source": [
    "plt.figure(figsize=(14,14))\n",
    "plt.title('Receiver Operating Characteristic')\n",
    "plt.plot(fpr, tpr, 'b', label = 'AUC = %0.2f' % roc_auc)\n",
    "plt.legend(loc = 'lower right')\n",
    "plt.plot([0, 1], [0, 1],'r--')\n",
    "plt.xlim([0, 1])\n",
    "plt.ylim([0, 1])\n",
    "plt.ylabel('True Positive Rate')\n",
    "plt.xlabel('False Positive Rate')\n",
    "plt.show()"
   ]
  },
  {
   "cell_type": "markdown",
   "metadata": {},
   "source": [
    "# Test Set"
   ]
  },
  {
   "cell_type": "code",
   "execution_count": 90,
   "metadata": {},
   "outputs": [],
   "source": [
    "df_test = pd.read_csv('./data/test.csv')"
   ]
  },
  {
   "cell_type": "code",
   "execution_count": 91,
   "metadata": {},
   "outputs": [
    {
     "data": {
      "text/plain": [
       "(116293, 11)"
      ]
     },
     "execution_count": 91,
     "metadata": {},
     "output_type": "execute_result"
    }
   ],
   "source": [
    "df_test.shape"
   ]
  },
  {
   "cell_type": "code",
   "execution_count": 92,
   "metadata": {},
   "outputs": [],
   "source": [
    "df_test['Date'] = pd.to_datetime(df_test['Date'])"
   ]
  },
  {
   "cell_type": "code",
   "execution_count": 93,
   "metadata": {},
   "outputs": [],
   "source": [
    "df_test.set_index('Date', inplace=True)"
   ]
  },
  {
   "cell_type": "markdown",
   "metadata": {},
   "source": [
    "## Merge Weather Data onto Test Data"
   ]
  },
  {
   "cell_type": "code",
   "execution_count": 94,
   "metadata": {},
   "outputs": [],
   "source": [
    "df_test_weather = pd.merge(left=df_test, right=df_weather, left_index=True, right_index=True)"
   ]
  },
  {
   "cell_type": "markdown",
   "metadata": {},
   "source": [
    "### Reset Index on combined DataFrame"
   ]
  },
  {
   "cell_type": "code",
   "execution_count": 95,
   "metadata": {},
   "outputs": [],
   "source": [
    "df_test_weather.reset_index(inplace=True)"
   ]
  },
  {
   "cell_type": "markdown",
   "metadata": {},
   "source": [
    "### Set index to Trap to comine trap data"
   ]
  },
  {
   "cell_type": "code",
   "execution_count": 96,
   "metadata": {},
   "outputs": [],
   "source": [
    "df_test_weather.set_index('Trap', inplace=True)"
   ]
  },
  {
   "cell_type": "markdown",
   "metadata": {},
   "source": [
    "## Merge Trap Data onto Test and Weather Data"
   ]
  },
  {
   "cell_type": "code",
   "execution_count": 97,
   "metadata": {},
   "outputs": [],
   "source": [
    "df_test_weather_traps = pd.merge(left=df_test_weather, right=df_traps, left_index=True, right_index=True)"
   ]
  },
  {
   "cell_type": "markdown",
   "metadata": {},
   "source": [
    "### Reset Index "
   ]
  },
  {
   "cell_type": "code",
   "execution_count": 98,
   "metadata": {},
   "outputs": [],
   "source": [
    "df_test_weather_traps.reset_index(inplace=True)"
   ]
  },
  {
   "cell_type": "markdown",
   "metadata": {},
   "source": [
    "## Create Dummies for Species on Test Data "
   ]
  },
  {
   "cell_type": "code",
   "execution_count": 99,
   "metadata": {},
   "outputs": [],
   "source": [
    "df_test_weather_traps = pd.get_dummies(df_test_weather_traps, columns=['Species'])"
   ]
  },
  {
   "cell_type": "markdown",
   "metadata": {},
   "source": [
    "## Set Features on Test Data"
   ]
  },
  {
   "cell_type": "code",
   "execution_count": 100,
   "metadata": {
    "scrolled": true
   },
   "outputs": [
    {
     "data": {
      "text/plain": [
       "(115533, 46)"
      ]
     },
     "execution_count": 100,
     "metadata": {},
     "output_type": "execute_result"
    }
   ],
   "source": [
    "XX_test = df_test_weather_traps[features]\n",
    "XX_test.shape"
   ]
  },
  {
   "cell_type": "markdown",
   "metadata": {},
   "source": [
    "## Predict WNV"
   ]
  },
  {
   "cell_type": "code",
   "execution_count": 101,
   "metadata": {
    "scrolled": true
   },
   "outputs": [],
   "source": [
    "df_test_weather_traps['WnvPresent'] = model.predict(XX_test) "
   ]
  },
  {
   "cell_type": "markdown",
   "metadata": {},
   "source": [
    "## Create Upload File"
   ]
  },
  {
   "cell_type": "code",
   "execution_count": 102,
   "metadata": {},
   "outputs": [],
   "source": [
    "upload = df_test_weather_traps.filter(['Id', 'WnvPresent'], axis=1)\n",
    "upload = upload.set_index('Id')"
   ]
  },
  {
   "cell_type": "code",
   "execution_count": 103,
   "metadata": {},
   "outputs": [],
   "source": [
    "upload.to_csv('wnvupload.csv')"
   ]
  },
  {
   "cell_type": "code",
   "execution_count": null,
   "metadata": {},
   "outputs": [],
   "source": []
  }
 ],
 "metadata": {
  "kernelspec": {
   "display_name": "Python 3",
   "language": "python",
   "name": "python3"
  },
  "language_info": {
   "codemirror_mode": {
    "name": "ipython",
    "version": 3
   },
   "file_extension": ".py",
   "mimetype": "text/x-python",
   "name": "python",
   "nbconvert_exporter": "python",
   "pygments_lexer": "ipython3",
   "version": "3.6.5"
  }
 },
 "nbformat": 4,
 "nbformat_minor": 2
}
